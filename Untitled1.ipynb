{
 "cells": [
  {
   "cell_type": "code",
   "execution_count": 1,
   "id": "dc61018f",
   "metadata": {},
   "outputs": [
    {
     "name": "stdout",
     "output_type": "stream",
     "text": [
      "5\n"
     ]
    }
   ],
   "source": [
    "sandy=5\n",
    "print(sandy)"
   ]
  },
  {
   "cell_type": "code",
   "execution_count": 2,
   "id": "a944b2b2",
   "metadata": {},
   "outputs": [
    {
     "name": "stdout",
     "output_type": "stream",
     "text": [
      "4\n",
      "6\n",
      "5\n"
     ]
    }
   ],
   "source": [
    "a=4\n",
    "b=6\n",
    "c=5\n",
    "print(a)\n",
    "print(b)\n",
    "print(c)"
   ]
  },
  {
   "cell_type": "code",
   "execution_count": 3,
   "id": "ba064b64",
   "metadata": {},
   "outputs": [
    {
     "name": "stdout",
     "output_type": "stream",
     "text": [
      "3 5 6\n"
     ]
    }
   ],
   "source": [
    "a,b,c=3,5,6\n",
    "print(a,b,c)"
   ]
  },
  {
   "cell_type": "code",
   "execution_count": 5,
   "id": "ed4f6220",
   "metadata": {},
   "outputs": [
    {
     "name": "stdout",
     "output_type": "stream",
     "text": [
      "4\n",
      "4\n",
      "4\n"
     ]
    }
   ],
   "source": [
    "a=b=c=4\n",
    "print(a)\n",
    "print(b)\n",
    "print(c)"
   ]
  },
  {
   "cell_type": "code",
   "execution_count": 13,
   "id": "c0c7d6c5",
   "metadata": {},
   "outputs": [
    {
     "name": "stdout",
     "output_type": "stream",
     "text": [
      "a : 4\n",
      "b: 4\n",
      "c:4\n"
     ]
    }
   ],
   "source": [
    "a=b=c=4\n",
    "print(\"a :\",a)\n",
    "print(\"b:\",b)\n",
    "print(\"c:\",c,sep=\"\")"
   ]
  },
  {
   "cell_type": "code",
   "execution_count": 10,
   "id": "0a3d6d23",
   "metadata": {},
   "outputs": [
    {
     "name": "stdout",
     "output_type": "stream",
     "text": [
      "sandeep\n"
     ]
    }
   ],
   "source": [
    "sandeep=5\n",
    "print(\"sandeep\")"
   ]
  },
  {
   "cell_type": "code",
   "execution_count": 11,
   "id": "5130e2bc",
   "metadata": {},
   "outputs": [
    {
     "name": "stdout",
     "output_type": "stream",
     "text": [
      "hello world\n"
     ]
    }
   ],
   "source": [
    "print(\"\"\"hello world\"\"\")"
   ]
  },
  {
   "cell_type": "code",
   "execution_count": 12,
   "id": "023da0d9",
   "metadata": {},
   "outputs": [
    {
     "name": "stdout",
     "output_type": "stream",
     "text": [
      "hello world\n"
     ]
    }
   ],
   "source": [
    "print('hello world')"
   ]
  },
  {
   "cell_type": "code",
   "execution_count": 15,
   "id": "dd468284",
   "metadata": {},
   "outputs": [
    {
     "name": "stdout",
     "output_type": "stream",
     "text": [
      "manojvinay\n"
     ]
    }
   ],
   "source": [
    "a=\"manoj\"\n",
    "b=\"vinay\"\n",
    "print(a+b)"
   ]
  },
  {
   "cell_type": "code",
   "execution_count": 16,
   "id": "948bcd7f",
   "metadata": {},
   "outputs": [
    {
     "name": "stdout",
     "output_type": "stream",
     "text": [
      "manoj vinay\n"
     ]
    }
   ],
   "source": [
    "a=\"manoj\"\n",
    "b=\"vinay\"\n",
    "print(a,b,sep=\" \")"
   ]
  },
  {
   "cell_type": "code",
   "execution_count": 19,
   "id": "4dc4c02b",
   "metadata": {},
   "outputs": [
    {
     "name": "stdout",
     "output_type": "stream",
     "text": [
      "manoj $ vinay\n"
     ]
    }
   ],
   "source": [
    "a=\"manoj\"\n",
    "b=\"vinay\"\n",
    "print(a,b,sep=\" $ \")"
   ]
  },
  {
   "cell_type": "code",
   "execution_count": 20,
   "id": "718eca78",
   "metadata": {},
   "outputs": [
    {
     "name": "stdout",
     "output_type": "stream",
     "text": [
      "manoj\n",
      "vinay\n"
     ]
    }
   ],
   "source": [
    "a=\"manoj\"\n",
    "b=\"vinay\"\n",
    "print(a,b,sep=\"\\n\")"
   ]
  },
  {
   "cell_type": "code",
   "execution_count": 24,
   "id": "c8700c4b",
   "metadata": {},
   "outputs": [
    {
     "name": "stdout",
     "output_type": "stream",
     "text": [
      "manoj\n",
      "vinay\n",
      "5\n",
      "6\n",
      "True\n"
     ]
    }
   ],
   "source": [
    "a=\"manoj\"\n",
    "b=\"vinay\"\n",
    "c=5\n",
    "h=6\n",
    "j=True\n",
    "print(a,b,c,h,j,sep=\"\\n\")"
   ]
  },
  {
   "cell_type": "code",
   "execution_count": 56,
   "id": "2815b90c",
   "metadata": {},
   "outputs": [
    {
     "name": "stdout",
     "output_type": "stream",
     "text": [
      "manoj@gamil.com \n",
      "vinay@gmail.com"
     ]
    }
   ],
   "source": [
    "m=\"manoj\"\n",
    "n=\"vinay\"\n",
    "print(m,n,sep=\"@gamil.com \\n\",end=\"@gmail.com\")"
   ]
  },
  {
   "cell_type": "code",
   "execution_count": 69,
   "id": "40cc3bff",
   "metadata": {},
   "outputs": [
    {
     "name": "stdout",
     "output_type": "stream",
     "text": [
      "my na\n"
     ]
    }
   ],
   "source": [
    "a=(\"my name is sandy\")\n",
    "print(a[0:5])"
   ]
  },
  {
   "cell_type": "code",
   "execution_count": 82,
   "id": "b9b37ca8",
   "metadata": {},
   "outputs": [
    {
     "name": "stdout",
     "output_type": "stream",
     "text": [
      "7\n"
     ]
    }
   ],
   "source": [
    "w=14\n",
    "print(int(w/2))"
   ]
  },
  {
   "cell_type": "code",
   "execution_count": 77,
   "id": "7590e351",
   "metadata": {},
   "outputs": [
    {
     "data": {
      "text/plain": [
       "7"
      ]
     },
     "execution_count": 77,
     "metadata": {},
     "output_type": "execute_result"
    }
   ],
   "source": [
    "14//2"
   ]
  },
  {
   "cell_type": "code",
   "execution_count": 87,
   "id": "1676d696",
   "metadata": {},
   "outputs": [
    {
     "name": "stdout",
     "output_type": "stream",
     "text": [
      "<class 'float'>\n"
     ]
    }
   ],
   "source": [
    "w=14\n",
    "print (type(w/2))"
   ]
  },
  {
   "cell_type": "code",
   "execution_count": 4,
   "id": "a2323168",
   "metadata": {},
   "outputs": [
    {
     "name": "stdout",
     "output_type": "stream",
     "text": [
      "sandy\n",
      "manu\n"
     ]
    }
   ],
   "source": [
    "s=\"sandy\"\n",
    "d=\"manu\"\n",
    "print(s,d,sep=\"\\n\")"
   ]
  },
  {
   "cell_type": "code",
   "execution_count": 5,
   "id": "46f06582",
   "metadata": {},
   "outputs": [
    {
     "name": "stdout",
     "output_type": "stream",
     "text": [
      "(0.5+0j)\n"
     ]
    }
   ],
   "source": [
    "k=.5\n",
    "print(complex(k))"
   ]
  },
  {
   "cell_type": "code",
   "execution_count": 7,
   "id": "d8ba5ca9",
   "metadata": {},
   "outputs": [
    {
     "name": "stdout",
     "output_type": "stream",
     "text": [
      "<class 'float'>\n"
     ]
    }
   ],
   "source": [
    "k=.5\n",
    "print(type(k))"
   ]
  },
  {
   "cell_type": "code",
   "execution_count": 192,
   "id": "682df7d0",
   "metadata": {},
   "outputs": [
    {
     "name": "stdout",
     "output_type": "stream",
     "text": [
      "sugar : 10\n",
      "oil : 10\n",
      "nuts ; 10\n",
      "total :  30\n"
     ]
    }
   ],
   "source": [
    "a=int(input(\"sugar : \"))\n",
    "b=int(input(\"oil : \"))\n",
    "c=int(input(\"nuts ; \"))\n",
    "total=a+b+c\n",
    "print(\"total : \",total)"
   ]
  },
  {
   "cell_type": "code",
   "execution_count": 18,
   "id": "b829b3e4",
   "metadata": {},
   "outputs": [
    {
     "name": "stdout",
     "output_type": "stream",
     "text": [
      "10 : 2\n",
      "11 : 2\n",
      "12: 2\n",
      "manu :  8\n"
     ]
    }
   ],
   "source": [
    "sand=int(input(\"10 : \"))\n",
    "sandy=int(input(\"11 : \"))\n",
    "sande=int(input(\"12: \"))\n",
    "manu=sand*sandy*sande\n",
    "print(\"manu : \",manu)"
   ]
  },
  {
   "cell_type": "code",
   "execution_count": 19,
   "id": "56f59a0e",
   "metadata": {},
   "outputs": [
    {
     "name": "stdout",
     "output_type": "stream",
     "text": [
      ":2\n",
      ":2\n",
      ":2\n",
      "total 16\n"
     ]
    }
   ],
   "source": [
    "a=int(input(\":\"))\n",
    "b=int(input(\":\"))\n",
    "c=int(input(\":\"))\n",
    "total=a**b**c\n",
    "print(\"total\",total)"
   ]
  },
  {
   "cell_type": "code",
   "execution_count": 24,
   "id": "8fd52507",
   "metadata": {},
   "outputs": [
    {
     "name": "stdout",
     "output_type": "stream",
     "text": [
      "milk : 25\n",
      "curd : 30\n",
      "gee : 65\n",
      "d:25,k:30,s:65\n",
      "120\n"
     ]
    }
   ],
   "source": [
    "d=int(input(\"milk : \"))\n",
    "k=int(input(\"curd : \"))\n",
    "s=int(input(\"gee : \"))\n",
    "total=d+k+s\n",
    "print(\"d:{},k:{},s:{}\".format(d,k,s))\n",
    "print(total)\n"
   ]
  },
  {
   "cell_type": "code",
   "execution_count": 27,
   "id": "6e864c2a",
   "metadata": {},
   "outputs": [
    {
     "name": "stdout",
     "output_type": "stream",
     "text": [
      "12\n",
      "15\n",
      "14\n",
      "total:12\n"
     ]
    }
   ],
   "source": [
    "b=int(input(\"\"))\n",
    "v=int(input(\"\"))\n",
    "g=int(input(\"\"))\n",
    "total=b+v+g\n",
    "print(\"total:{}\".format(b,v,g))"
   ]
  },
  {
   "cell_type": "code",
   "execution_count": 31,
   "id": "f4eba21b",
   "metadata": {},
   "outputs": [
    {
     "name": "stdout",
     "output_type": "stream",
     "text": [
      "n\n"
     ]
    }
   ],
   "source": [
    "a=\"sandeep\"\n",
    "print (a[2])"
   ]
  },
  {
   "cell_type": "code",
   "execution_count": 32,
   "id": "5adb8b7a",
   "metadata": {},
   "outputs": [
    {
     "data": {
      "text/plain": [
       "'s'"
      ]
     },
     "execution_count": 32,
     "metadata": {},
     "output_type": "execute_result"
    }
   ],
   "source": [
    "a[0]"
   ]
  },
  {
   "cell_type": "code",
   "execution_count": 33,
   "id": "938c894e",
   "metadata": {},
   "outputs": [
    {
     "data": {
      "text/plain": [
       "'a'"
      ]
     },
     "execution_count": 33,
     "metadata": {},
     "output_type": "execute_result"
    }
   ],
   "source": [
    "a[1]"
   ]
  },
  {
   "cell_type": "code",
   "execution_count": 34,
   "id": "319545a9",
   "metadata": {},
   "outputs": [
    {
     "data": {
      "text/plain": [
       "'p'"
      ]
     },
     "execution_count": 34,
     "metadata": {},
     "output_type": "execute_result"
    }
   ],
   "source": [
    "a[6]"
   ]
  },
  {
   "cell_type": "code",
   "execution_count": 35,
   "id": "49297fec",
   "metadata": {},
   "outputs": [
    {
     "data": {
      "text/plain": [
       "'p'"
      ]
     },
     "execution_count": 35,
     "metadata": {},
     "output_type": "execute_result"
    }
   ],
   "source": [
    "a[-1]"
   ]
  },
  {
   "cell_type": "code",
   "execution_count": 38,
   "id": "21476600",
   "metadata": {},
   "outputs": [
    {
     "name": "stdout",
     "output_type": "stream",
     "text": [
      "nihcas\n"
     ]
    }
   ],
   "source": [
    "b=\"sachin\"\n",
    "print (b[::-1])"
   ]
  },
  {
   "cell_type": "code",
   "execution_count": 39,
   "id": "e8398951",
   "metadata": {},
   "outputs": [
    {
     "name": "stdout",
     "output_type": "stream",
     "text": [
      "sachin\n"
     ]
    }
   ],
   "source": [
    "b=\"sachin\"\n",
    "print(b[::1])"
   ]
  },
  {
   "cell_type": "code",
   "execution_count": 40,
   "id": "38500211",
   "metadata": {},
   "outputs": [
    {
     "name": "stdout",
     "output_type": "stream",
     "text": [
      "sachi\n"
     ]
    }
   ],
   "source": [
    "b=\"sachin\"\n",
    "print(b[0:5])"
   ]
  },
  {
   "cell_type": "code",
   "execution_count": 41,
   "id": "95e72ab7",
   "metadata": {},
   "outputs": [
    {
     "name": "stdout",
     "output_type": "stream",
     "text": [
      "hi\n"
     ]
    }
   ],
   "source": [
    "a=\"hi i am learning python\"\n",
    "print(a[0:2])"
   ]
  },
  {
   "cell_type": "code",
   "execution_count": 42,
   "id": "dc49502b",
   "metadata": {},
   "outputs": [
    {
     "data": {
      "text/plain": [
       "'hi i am'"
      ]
     },
     "execution_count": 42,
     "metadata": {},
     "output_type": "execute_result"
    }
   ],
   "source": [
    "a[0:7]"
   ]
  },
  {
   "cell_type": "code",
   "execution_count": 43,
   "id": "223c1571",
   "metadata": {},
   "outputs": [
    {
     "data": {
      "text/plain": [
       "'hi i am learning'"
      ]
     },
     "execution_count": 43,
     "metadata": {},
     "output_type": "execute_result"
    }
   ],
   "source": [
    "a[0:-7]"
   ]
  },
  {
   "cell_type": "code",
   "execution_count": 44,
   "id": "be402ea9",
   "metadata": {},
   "outputs": [
    {
     "data": {
      "text/plain": [
       "' '"
      ]
     },
     "execution_count": 44,
     "metadata": {},
     "output_type": "execute_result"
    }
   ],
   "source": [
    "a[-7]"
   ]
  },
  {
   "cell_type": "code",
   "execution_count": 47,
   "id": "e1ce7e22",
   "metadata": {},
   "outputs": [
    {
     "data": {
      "text/plain": [
       "''"
      ]
     },
     "execution_count": 47,
     "metadata": {},
     "output_type": "execute_result"
    }
   ],
   "source": [
    "a[-]"
   ]
  },
  {
   "cell_type": "code",
   "execution_count": 48,
   "id": "03ebd549",
   "metadata": {},
   "outputs": [
    {
     "data": {
      "text/plain": [
       "''"
      ]
     },
     "execution_count": 48,
     "metadata": {},
     "output_type": "execute_result"
    }
   ],
   "source": [
    "a[-6:0]"
   ]
  },
  {
   "cell_type": "code",
   "execution_count": 51,
   "id": "75f7df12",
   "metadata": {},
   "outputs": [
    {
     "data": {
      "text/plain": [
       "'pytho'"
      ]
     },
     "execution_count": 51,
     "metadata": {},
     "output_type": "execute_result"
    }
   ],
   "source": [
    "a[-6:-1]"
   ]
  },
  {
   "cell_type": "code",
   "execution_count": 52,
   "id": "7dd2f809",
   "metadata": {},
   "outputs": [
    {
     "data": {
      "text/plain": [
       "'python'"
      ]
     },
     "execution_count": 52,
     "metadata": {},
     "output_type": "execute_result"
    }
   ],
   "source": [
    "a[-6::]"
   ]
  },
  {
   "cell_type": "code",
   "execution_count": 53,
   "id": "782d1206",
   "metadata": {},
   "outputs": [
    {
     "data": {
      "text/plain": [
       "'m learning python'"
      ]
     },
     "execution_count": 53,
     "metadata": {},
     "output_type": "execute_result"
    }
   ],
   "source": [
    "a[6::]"
   ]
  },
  {
   "cell_type": "code",
   "execution_count": 54,
   "id": "ab2ff18a",
   "metadata": {},
   "outputs": [
    {
     "data": {
      "text/plain": [
       "'python'"
      ]
     },
     "execution_count": 54,
     "metadata": {},
     "output_type": "execute_result"
    }
   ],
   "source": [
    "a[17::]"
   ]
  },
  {
   "cell_type": "code",
   "execution_count": 55,
   "id": "d6441148",
   "metadata": {},
   "outputs": [
    {
     "data": {
      "text/plain": [
       "'p'"
      ]
     },
     "execution_count": 55,
     "metadata": {},
     "output_type": "execute_result"
    }
   ],
   "source": [
    "a[17]"
   ]
  },
  {
   "cell_type": "code",
   "execution_count": 60,
   "id": "c70bec42",
   "metadata": {},
   "outputs": [
    {
     "name": "stdout",
     "output_type": "stream",
     "text": [
      "['hi', 'i', 'am', 'learning', 'python']\n"
     ]
    }
   ],
   "source": [
    "a=\"hi i am learning python\"\n",
    "print(a.split())"
   ]
  },
  {
   "cell_type": "code",
   "execution_count": 62,
   "id": "cde3ec71",
   "metadata": {},
   "outputs": [
    {
     "name": "stdout",
     "output_type": "stream",
     "text": [
      "['hi', 'i', 'am', 'learning', 'python']\n"
     ]
    }
   ],
   "source": [
    "b=(a.split())\n",
    "print(b)\n"
   ]
  },
  {
   "cell_type": "code",
   "execution_count": 66,
   "id": "1518545a",
   "metadata": {},
   "outputs": [
    {
     "data": {
      "text/plain": [
       "'hi i am learning python'"
      ]
     },
     "execution_count": 66,
     "metadata": {},
     "output_type": "execute_result"
    }
   ],
   "source": [
    "\" \".join(b)"
   ]
  },
  {
   "cell_type": "code",
   "execution_count": 78,
   "id": "989c67e0",
   "metadata": {},
   "outputs": [
    {
     "name": "stdout",
     "output_type": "stream",
     "text": [
      "['hi', 'my', 'name', 'sandeep']\n"
     ]
    }
   ],
   "source": [
    "name=\"hi#my#name#sandeep\"\n",
    "print(name.split(\"#\"))"
   ]
  },
  {
   "cell_type": "code",
   "execution_count": 84,
   "id": "46b2ff5a",
   "metadata": {},
   "outputs": [
    {
     "name": "stdout",
     "output_type": "stream",
     "text": [
      "['hi', 'my', 'name', 'sandeep']\n"
     ]
    }
   ],
   "source": [
    "b=(name.split(\"#\"))\n",
    "print(b)"
   ]
  },
  {
   "cell_type": "code",
   "execution_count": 86,
   "id": "8a3c7694",
   "metadata": {},
   "outputs": [
    {
     "data": {
      "text/plain": [
       "'hi my name sandeep'"
      ]
     },
     "execution_count": 86,
     "metadata": {},
     "output_type": "execute_result"
    }
   ],
   "source": [
    "\" \".join(b)"
   ]
  },
  {
   "cell_type": "code",
   "execution_count": 87,
   "id": "d10af35d",
   "metadata": {},
   "outputs": [
    {
     "data": {
      "text/plain": [
       "True"
      ]
     },
     "execution_count": 87,
     "metadata": {},
     "output_type": "execute_result"
    }
   ],
   "source": [
    "a=\"1234\"\n",
    "a.isdigit()"
   ]
  },
  {
   "cell_type": "code",
   "execution_count": 90,
   "id": "15ece96b",
   "metadata": {},
   "outputs": [
    {
     "data": {
      "text/plain": [
       "'SACHIN'"
      ]
     },
     "execution_count": 90,
     "metadata": {},
     "output_type": "execute_result"
    }
   ],
   "source": [
    "a=\"sachin\"\n",
    "a.upper()"
   ]
  },
  {
   "cell_type": "code",
   "execution_count": 94,
   "id": "8d2f29f5",
   "metadata": {},
   "outputs": [
    {
     "name": "stdout",
     "output_type": "stream",
     "text": [
      "hi i am \n"
     ]
    }
   ],
   "source": [
    "a=\"hi i am learning python\"\n",
    "print(a[0:8:])"
   ]
  },
  {
   "cell_type": "code",
   "execution_count": 97,
   "id": "8684701a",
   "metadata": {},
   "outputs": [
    {
     "data": {
      "text/plain": [
       "'hi i am learning '"
      ]
     },
     "execution_count": 97,
     "metadata": {},
     "output_type": "execute_result"
    }
   ],
   "source": [
    "a[0:17:]"
   ]
  },
  {
   "cell_type": "code",
   "execution_count": 102,
   "id": "7cb6dfc8",
   "metadata": {},
   "outputs": [
    {
     "data": {
      "text/plain": [
       "'python'"
      ]
     },
     "execution_count": 102,
     "metadata": {},
     "output_type": "execute_result"
    }
   ],
   "source": [
    "a[17:]"
   ]
  },
  {
   "cell_type": "code",
   "execution_count": 103,
   "id": "aace7d52",
   "metadata": {},
   "outputs": [
    {
     "name": "stdout",
     "output_type": "stream",
     "text": [
      "['hello', 'my', 'name', 'sandeep']\n"
     ]
    }
   ],
   "source": [
    "g=\"hello$my$name$sandeep\"\n",
    "print(g.split(\"$\"))"
   ]
  },
  {
   "cell_type": "code",
   "execution_count": 104,
   "id": "a3aa6fb3",
   "metadata": {},
   "outputs": [
    {
     "name": "stdout",
     "output_type": "stream",
     "text": [
      "['hello', 'my', 'name', 'sandeep']\n"
     ]
    }
   ],
   "source": [
    "h=(g.split(\"$\"))\n",
    "print(h)"
   ]
  },
  {
   "cell_type": "code",
   "execution_count": 106,
   "id": "82f1ff42",
   "metadata": {},
   "outputs": [
    {
     "data": {
      "text/plain": [
       "'hellomynamesandeep'"
      ]
     },
     "execution_count": 106,
     "metadata": {},
     "output_type": "execute_result"
    }
   ],
   "source": [
    "\"\".join(h)"
   ]
  },
  {
   "cell_type": "code",
   "execution_count": 170,
   "id": "72c7a5df",
   "metadata": {},
   "outputs": [
    {
     "name": "stdout",
     "output_type": "stream",
     "text": [
      "['hello', 'my#name%sandeep']\n"
     ]
    }
   ],
   "source": [
    "g=\"hello$my#name%sandeep\"\n",
    "print(g.split(\"$\"))"
   ]
  },
  {
   "cell_type": "code",
   "execution_count": 125,
   "id": "f38f67d8",
   "metadata": {},
   "outputs": [
    {
     "name": "stdout",
     "output_type": "stream",
     "text": [
      "hellomy\n"
     ]
    }
   ],
   "source": [
    "g=\"hello$my#name%sandeep\"\n",
    "print(g[0:5]+g[6:8])"
   ]
  },
  {
   "cell_type": "code",
   "execution_count": 122,
   "id": "34e3ce19",
   "metadata": {},
   "outputs": [
    {
     "name": "stdout",
     "output_type": "stream",
     "text": [
      "hello$my#name%sandeep\n"
     ]
    }
   ],
   "source": [
    "i=(g[0:22])\n",
    "print(i)"
   ]
  },
  {
   "cell_type": "code",
   "execution_count": 126,
   "id": "f9197cd6",
   "metadata": {},
   "outputs": [
    {
     "data": {
      "text/plain": [
       "'hello$my#name%sandeep'"
      ]
     },
     "execution_count": 126,
     "metadata": {},
     "output_type": "execute_result"
    }
   ],
   "source": [
    "g"
   ]
  },
  {
   "cell_type": "code",
   "execution_count": 131,
   "id": "f5d16c96",
   "metadata": {},
   "outputs": [
    {
     "data": {
      "text/plain": [
       "'hello,my#name%sandeep'"
      ]
     },
     "execution_count": 131,
     "metadata": {},
     "output_type": "execute_result"
    }
   ],
   "source": [
    "g=g.replace(\"$\",',')\n",
    "g"
   ]
  },
  {
   "cell_type": "code",
   "execution_count": 134,
   "id": "31303f61",
   "metadata": {},
   "outputs": [
    {
     "data": {
      "text/plain": [
       "'hello,my,name%sandeep'"
      ]
     },
     "execution_count": 134,
     "metadata": {},
     "output_type": "execute_result"
    }
   ],
   "source": [
    "g=g.replace(\"#\",\",\")\n",
    "g"
   ]
  },
  {
   "cell_type": "code",
   "execution_count": 141,
   "id": "e18ce743",
   "metadata": {},
   "outputs": [
    {
     "data": {
      "text/plain": [
       "'hello,my,name,sandeep'"
      ]
     },
     "execution_count": 141,
     "metadata": {},
     "output_type": "execute_result"
    }
   ],
   "source": [
    "g=g.replace(\"%\",\",\")\n",
    "g"
   ]
  },
  {
   "cell_type": "code",
   "execution_count": 144,
   "id": "78a33c27",
   "metadata": {},
   "outputs": [
    {
     "name": "stdout",
     "output_type": "stream",
     "text": [
      "['hello', 'my', 'name', 'sandeep']\n"
     ]
    }
   ],
   "source": [
    "g\n",
    "print(g.split(\",\"))"
   ]
  },
  {
   "cell_type": "code",
   "execution_count": 145,
   "id": "60521e88",
   "metadata": {},
   "outputs": [],
   "source": [
    "h=(g.split(\",\"))"
   ]
  },
  {
   "cell_type": "code",
   "execution_count": 147,
   "id": "e68def81",
   "metadata": {},
   "outputs": [
    {
     "data": {
      "text/plain": [
       "'hello my name sandeep'"
      ]
     },
     "execution_count": 147,
     "metadata": {},
     "output_type": "execute_result"
    }
   ],
   "source": [
    "\" \".join(h)"
   ]
  },
  {
   "cell_type": "code",
   "execution_count": 154,
   "id": "189a5231",
   "metadata": {},
   "outputs": [
    {
     "name": "stdout",
     "output_type": "stream",
     "text": [
      "hellomynamesandeep\n"
     ]
    }
   ],
   "source": [
    "g=\"hello$my#name%sandeep\"\n",
    "print(g[0:5]+g[6:8]+g[9:13]+g[14:21])"
   ]
  },
  {
   "cell_type": "code",
   "execution_count": 168,
   "id": "094cb2b3",
   "metadata": {},
   "outputs": [
    {
     "name": "stdout",
     "output_type": "stream",
     "text": [
      "manu@gmail.com\n",
      "vinay@gamil.com"
     ]
    }
   ],
   "source": [
    "h=\"manu\"\n",
    "i=\"vinay\"\n",
    "print(h,i,sep=\"@gmail.com\"\"\\n\",end=\"@gamil.com\")"
   ]
  },
  {
   "cell_type": "code",
   "execution_count": 174,
   "id": "6bb708a3",
   "metadata": {},
   "outputs": [
    {
     "name": "stdout",
     "output_type": "stream",
     "text": [
      "a: 12\n",
      "b: 6\n",
      "a is greter than b\n"
     ]
    }
   ],
   "source": [
    "a=int(input(\"a: \"))\n",
    "b=int(input(\"b: \"))\n",
    "if a>b:\n",
    "    print(\"a is greter than b\")\n",
    "else:\n",
    "    print(\"b is greter than a\")"
   ]
  },
  {
   "cell_type": "code",
   "execution_count": 175,
   "id": "503d7be9",
   "metadata": {},
   "outputs": [
    {
     "name": "stdout",
     "output_type": "stream",
     "text": [
      "a: 5\n",
      "b: 5\n",
      "a is equal to b\n"
     ]
    }
   ],
   "source": [
    "a=int(input(\"a: \"))\n",
    "b=int(input(\"b: \"))\n",
    "if a==b:\n",
    "    print(\"a is equal to b\")\n",
    "else :\n",
    "    print(\"b is not equal a\")"
   ]
  },
  {
   "cell_type": "code",
   "execution_count": 184,
   "id": "7cce568b",
   "metadata": {},
   "outputs": [
    {
     "name": "stdout",
     "output_type": "stream",
     "text": [
      "a: 11\n",
      "a is odd\n"
     ]
    }
   ],
   "source": [
    "a=int(input(\"a: \"))\n",
    "if a%2:\n",
    "    print(\"a is odd\")\n",
    "else:\n",
    "    print(\"a is even\")"
   ]
  },
  {
   "cell_type": "code",
   "execution_count": 187,
   "id": "90596d13",
   "metadata": {},
   "outputs": [
    {
     "name": "stdout",
     "output_type": "stream",
     "text": [
      "a: 15\n",
      "b :2\n",
      "b is odd\n"
     ]
    }
   ],
   "source": [
    "a=int(input(\"a: \"))\n",
    "b=int(input(\"b :\"))\n",
    "if a%b==0:\n",
    "    print(\"a is even\")\n",
    "else:\n",
    "    print(\"b is odd\")\n",
    "\n"
   ]
  },
  {
   "cell_type": "code",
   "execution_count": 189,
   "id": "c90bae41",
   "metadata": {},
   "outputs": [
    {
     "name": "stdout",
     "output_type": "stream",
     "text": [
      "a: 14\n",
      "b :2\n",
      "b is even\n"
     ]
    }
   ],
   "source": [
    "a=int(input(\"a: \"))\n",
    "b=int(input(\"b :\"))\n",
    "if a%b!=0:\n",
    "    print(\"a is odd\")\n",
    "else:\n",
    "    print(\"b is even\")\n"
   ]
  },
  {
   "cell_type": "code",
   "execution_count": 1,
   "id": "8f263837",
   "metadata": {},
   "outputs": [
    {
     "name": "stdout",
     "output_type": "stream",
     "text": [
      "a: 15\n",
      "b :25\n",
      "a is odd\n"
     ]
    }
   ],
   "source": [
    "a=int(input(\"a: \"))\n",
    "b=int(input(\"b :\"))\n",
    "if a%b!=0:\n",
    "    print(\"a is odd\")\n",
    "else:\n",
    "    print(\"b is even\")\n"
   ]
  },
  {
   "cell_type": "code",
   "execution_count": 3,
   "id": "9062e23f",
   "metadata": {},
   "outputs": [
    {
     "name": "stdout",
     "output_type": "stream",
     "text": [
      "15\n",
      "14\n"
     ]
    }
   ],
   "source": [
    "h=15\n",
    "i=14\n",
    "print(h,i,sep=\"\\n\")"
   ]
  },
  {
   "cell_type": "code",
   "execution_count": 7,
   "id": "ca090098",
   "metadata": {},
   "outputs": [
    {
     "name": "stdout",
     "output_type": "stream",
     "text": [
      "Sandeep_M_Olekar\n"
     ]
    }
   ],
   "source": [
    "h=\"Sandeep\"\n",
    "j=\"M\"\n",
    "i=\"Olekar\"\n",
    "print(h,j,i,sep=\"_\")"
   ]
  },
  {
   "cell_type": "code",
   "execution_count": 8,
   "id": "71f67bbf",
   "metadata": {},
   "outputs": [
    {
     "name": "stdout",
     "output_type": "stream",
     "text": [
      "Hi, How are you?"
     ]
    }
   ],
   "source": [
    "print(\"Hi, How are you\",end=\"?\")"
   ]
  },
  {
   "cell_type": "code",
   "execution_count": 15,
   "id": "02efdbbc",
   "metadata": {},
   "outputs": [
    {
     "name": "stdout",
     "output_type": "stream",
     "text": [
      "Hi How are you\n",
      "you?"
     ]
    }
   ],
   "source": [
    "t=\"Hi How are you\"\n",
    "o=\"you\"\n",
    "print(t,o,sep=\"\\n\",end=\"?\")"
   ]
  },
  {
   "cell_type": "code",
   "execution_count": 41,
   "id": "755b11fe",
   "metadata": {},
   "outputs": [
    {
     "name": "stdout",
     "output_type": "stream",
     "text": [
      "45\n",
      "thin\n"
     ]
    }
   ],
   "source": [
    "w=int(input())\n",
    "if w<40:\n",
    "    print(\"underweight\")\n",
    "elif w>=40 and w<49:\n",
    "    print(\"thin\")\n",
    "elif w>=50 and w<64:\n",
    "    print(\"medium\")\n",
    "elif w>=65 and w<84:\n",
    "    print(\"fat\")\n",
    "elif w>=85 and w<99:\n",
    "    print(\"over weight\")\n",
    "else:\n",
    "    print(\"obess\")"
   ]
  },
  {
   "cell_type": "code",
   "execution_count": 66,
   "id": "35d56a9d",
   "metadata": {},
   "outputs": [
    {
     "name": "stdout",
     "output_type": "stream",
     "text": [
      "125\n",
      "obess\n"
     ]
    }
   ],
   "source": [
    "w=int(input())\n",
    "if w<40:\n",
    "    print(\"underweight\")\n",
    "if w>=40 and w<49:\n",
    "    print(\"thin\")\n",
    "if w>=50 and w<64:\n",
    "    print(\"medium\")\n",
    "if w>=65 and w<84:\n",
    "    print(\"fat\")\n",
    "if w>=85 and w<99:\n",
    "    print(\"over weight\")\n",
    "elif w>99:\n",
    "    print(\"obess\")\n",
    "else :\n",
    "    print(\"unknow valu\")"
   ]
  },
  {
   "cell_type": "code",
   "execution_count": null,
   "id": "c3e2e018",
   "metadata": {},
   "outputs": [],
   "source": []
  }
 ],
 "metadata": {
  "kernelspec": {
   "display_name": "Python 3 (ipykernel)",
   "language": "python",
   "name": "python3"
  },
  "language_info": {
   "codemirror_mode": {
    "name": "ipython",
    "version": 3
   },
   "file_extension": ".py",
   "mimetype": "text/x-python",
   "name": "python",
   "nbconvert_exporter": "python",
   "pygments_lexer": "ipython3",
   "version": "3.10.9"
  }
 },
 "nbformat": 4,
 "nbformat_minor": 5
}
