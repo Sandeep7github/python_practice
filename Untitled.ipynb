{
 "cells": [
  {
   "cell_type": "code",
   "execution_count": 3,
   "id": "d87a45a0",
   "metadata": {},
   "outputs": [
    {
     "name": "stdout",
     "output_type": "stream",
     "text": [
      "hello , how are you?\n"
     ]
    }
   ],
   "source": [
    "print(\"hello , how are you?\")"
   ]
  },
  {
   "cell_type": "code",
   "execution_count": 4,
   "id": "198e802b",
   "metadata": {},
   "outputs": [
    {
     "name": "stdout",
     "output_type": "stream",
     "text": [
      "hello ,how are you?\n"
     ]
    }
   ],
   "source": [
    "a=\"hello ,how are you?\"\n",
    "print(a)"
   ]
  },
  {
   "cell_type": "code",
   "execution_count": 5,
   "id": "34ad24a2",
   "metadata": {},
   "outputs": [
    {
     "name": "stdout",
     "output_type": "stream",
     "text": [
      "hello ,how are you?\n",
      "hello ,how are you?\n"
     ]
    }
   ],
   "source": [
    "a=\"hello ,how are you?\"\n",
    "print(a)\n",
    "print(a)"
   ]
  },
  {
   "cell_type": "code",
   "execution_count": 10,
   "id": "a2129fac",
   "metadata": {},
   "outputs": [
    {
     "name": "stdout",
     "output_type": "stream",
     "text": [
      "hello ,how are you?\n"
     ]
    }
   ],
   "source": [
    "a=\"\"\"hello ,how are you?\"\"\"\n",
    "print(a)"
   ]
  },
  {
   "cell_type": "code",
   "execution_count": 11,
   "id": "93aa6b10",
   "metadata": {},
   "outputs": [
    {
     "name": "stdout",
     "output_type": "stream",
     "text": [
      "hello ,how are you?\n"
     ]
    }
   ],
   "source": [
    "a='hello ,how are you?'\n",
    "print(a)"
   ]
  },
  {
   "cell_type": "code",
   "execution_count": 316,
   "id": "8b905038",
   "metadata": {},
   "outputs": [
    {
     "name": "stdout",
     "output_type": "stream",
     "text": [
      "5\n",
      "5\n",
      "5\n"
     ]
    }
   ],
   "source": [
    "a=b=c=5\n",
    "print(a,b,c,sep=\"\\n\")"
   ]
  },
  {
   "cell_type": "code",
   "execution_count": 17,
   "id": "fb172fbe",
   "metadata": {},
   "outputs": [
    {
     "name": "stdout",
     "output_type": "stream",
     "text": [
      "5\n",
      "5\n",
      "5\n"
     ]
    }
   ],
   "source": [
    "a=b=c=5\n",
    "print(a)\n",
    "print(b)\n",
    "print(c)"
   ]
  },
  {
   "cell_type": "code",
   "execution_count": 20,
   "id": "54c5d987",
   "metadata": {},
   "outputs": [
    {
     "name": "stdout",
     "output_type": "stream",
     "text": [
      "5\n"
     ]
    },
    {
     "data": {
      "text/plain": [
       "int"
      ]
     },
     "execution_count": 20,
     "metadata": {},
     "output_type": "execute_result"
    }
   ],
   "source": [
    "a=5\n",
    "print(a)\n",
    "type(a)"
   ]
  },
  {
   "cell_type": "code",
   "execution_count": 21,
   "id": "344263ff",
   "metadata": {},
   "outputs": [
    {
     "name": "stdout",
     "output_type": "stream",
     "text": [
      "5\n"
     ]
    },
    {
     "data": {
      "text/plain": [
       "str"
      ]
     },
     "execution_count": 21,
     "metadata": {},
     "output_type": "execute_result"
    }
   ],
   "source": [
    "a=\"5\"\n",
    "print(a)\n",
    "type(a)"
   ]
  },
  {
   "cell_type": "code",
   "execution_count": 23,
   "id": "dfb01b96",
   "metadata": {},
   "outputs": [
    {
     "name": "stdout",
     "output_type": "stream",
     "text": [
      "3.2\n"
     ]
    },
    {
     "data": {
      "text/plain": [
       "float"
      ]
     },
     "execution_count": 23,
     "metadata": {},
     "output_type": "execute_result"
    }
   ],
   "source": [
    "a=3.2\n",
    "print(a)\n",
    "type(a)"
   ]
  },
  {
   "cell_type": "code",
   "execution_count": 26,
   "id": "f73448e7",
   "metadata": {},
   "outputs": [
    {
     "name": "stdout",
     "output_type": "stream",
     "text": [
      "True\n"
     ]
    },
    {
     "data": {
      "text/plain": [
       "bool"
      ]
     },
     "execution_count": 26,
     "metadata": {},
     "output_type": "execute_result"
    }
   ],
   "source": [
    "a=True\n",
    "print(a)\n",
    "type(a)"
   ]
  },
  {
   "cell_type": "code",
   "execution_count": 28,
   "id": "11b7ff6c",
   "metadata": {},
   "outputs": [
    {
     "name": "stdout",
     "output_type": "stream",
     "text": [
      "5\n"
     ]
    },
    {
     "data": {
      "text/plain": [
       "str"
      ]
     },
     "execution_count": 28,
     "metadata": {},
     "output_type": "execute_result"
    }
   ],
   "source": [
    "a=5\n",
    "print(a)\n",
    "type(str(a))"
   ]
  },
  {
   "cell_type": "code",
   "execution_count": 29,
   "id": "1c098f77",
   "metadata": {},
   "outputs": [
    {
     "name": "stdout",
     "output_type": "stream",
     "text": [
      "3.2\n"
     ]
    },
    {
     "data": {
      "text/plain": [
       "int"
      ]
     },
     "execution_count": 29,
     "metadata": {},
     "output_type": "execute_result"
    }
   ],
   "source": [
    "a=3.2\n",
    "print(a)\n",
    "type(int(a))"
   ]
  },
  {
   "cell_type": "code",
   "execution_count": 30,
   "id": "9ca5b199",
   "metadata": {},
   "outputs": [
    {
     "name": "stdout",
     "output_type": "stream",
     "text": [
      "3.2\n"
     ]
    },
    {
     "data": {
      "text/plain": [
       "bool"
      ]
     },
     "execution_count": 30,
     "metadata": {},
     "output_type": "execute_result"
    }
   ],
   "source": [
    "a=3.2\n",
    "print(a)\n",
    "type(bool(a))"
   ]
  },
  {
   "cell_type": "code",
   "execution_count": 31,
   "id": "d1337bdb",
   "metadata": {},
   "outputs": [
    {
     "name": "stdout",
     "output_type": "stream",
     "text": [
      "True\n"
     ]
    },
    {
     "data": {
      "text/plain": [
       "int"
      ]
     },
     "execution_count": 31,
     "metadata": {},
     "output_type": "execute_result"
    }
   ],
   "source": [
    "a=True\n",
    "print(a)\n",
    "type(int(a))"
   ]
  },
  {
   "cell_type": "code",
   "execution_count": 32,
   "id": "c0793b90",
   "metadata": {},
   "outputs": [
    {
     "name": "stdout",
     "output_type": "stream",
     "text": [
      "3.2\n"
     ]
    },
    {
     "data": {
      "text/plain": [
       "complex"
      ]
     },
     "execution_count": 32,
     "metadata": {},
     "output_type": "execute_result"
    }
   ],
   "source": [
    "a=3.2\n",
    "print(a)\n",
    "type(complex(a))"
   ]
  },
  {
   "cell_type": "code",
   "execution_count": 34,
   "id": "04cddaa7",
   "metadata": {},
   "outputs": [
    {
     "name": "stdout",
     "output_type": "stream",
     "text": [
      "(3.2+0j)\n"
     ]
    }
   ],
   "source": [
    "a=3.2\n",
    "print(complex(a))"
   ]
  },
  {
   "cell_type": "code",
   "execution_count": 37,
   "id": "16346967",
   "metadata": {},
   "outputs": [
    {
     "name": "stdout",
     "output_type": "stream",
     "text": [
      "1\n"
     ]
    }
   ],
   "source": [
    "a=True\n",
    "print(int(a))\n"
   ]
  },
  {
   "cell_type": "code",
   "execution_count": 38,
   "id": "3a5c283d",
   "metadata": {},
   "outputs": [
    {
     "name": "stdout",
     "output_type": "stream",
     "text": [
      "True\n"
     ]
    }
   ],
   "source": [
    "a=True\n",
    "print(str(a))\n"
   ]
  },
  {
   "cell_type": "code",
   "execution_count": 39,
   "id": "334dc687",
   "metadata": {},
   "outputs": [
    {
     "name": "stdout",
     "output_type": "stream",
     "text": [
      "10\n"
     ]
    },
    {
     "data": {
      "text/plain": [
       "int"
      ]
     },
     "execution_count": 39,
     "metadata": {},
     "output_type": "execute_result"
    }
   ],
   "source": [
    "a=\"10\"\n",
    "print(a)\n",
    "type(int(a))"
   ]
  },
  {
   "cell_type": "code",
   "execution_count": 40,
   "id": "8d1b5f33",
   "metadata": {},
   "outputs": [
    {
     "name": "stdout",
     "output_type": "stream",
     "text": [
      "220\n"
     ]
    }
   ],
   "source": [
    "a=30\n",
    "b=40\n",
    "c=60\n",
    "d=90\n",
    "print(a+b+c+d)\n"
   ]
  },
  {
   "cell_type": "code",
   "execution_count": 317,
   "id": "fb770f4c",
   "metadata": {},
   "outputs": [
    {
     "name": "stdout",
     "output_type": "stream",
     "text": [
      "total amountis : 220\n",
      "total amountis : 220\n"
     ]
    }
   ],
   "source": [
    "a=30\n",
    "b=40\n",
    "c=60\n",
    "d=90\n",
    "e=a+b+c+d\n",
    "print(\"total amountis :\",e)\n",
    "print(\"total amountis : {}\".format(e))"
   ]
  },
  {
   "cell_type": "code",
   "execution_count": 49,
   "id": "61f7cd63",
   "metadata": {},
   "outputs": [
    {
     "name": "stdout",
     "output_type": "stream",
     "text": [
      "total amountis : False\n"
     ]
    }
   ],
   "source": [
    "a=30\n",
    "b=40\n",
    "c=60\n",
    "d=90\n",
    "e=a>=b>=c>=d\n",
    "print(\"total amountis :\",e)"
   ]
  },
  {
   "cell_type": "code",
   "execution_count": 55,
   "id": "d7da4e17",
   "metadata": {},
   "outputs": [
    {
     "name": "stdout",
     "output_type": "stream",
     "text": [
      "sandeep@gamil.com"
     ]
    }
   ],
   "source": [
    "a=\"sandeep\"\n",
    "print(a,end=\"@gamil.com\")"
   ]
  },
  {
   "cell_type": "code",
   "execution_count": 65,
   "id": "c7de0e28",
   "metadata": {},
   "outputs": [
    {
     "name": "stdout",
     "output_type": "stream",
     "text": [
      " learning\n"
     ]
    }
   ],
   "source": [
    "name=\"machine learning\"\n",
    "print(name[7:])"
   ]
  },
  {
   "cell_type": "code",
   "execution_count": 66,
   "id": "e96684b4",
   "metadata": {},
   "outputs": [
    {
     "name": "stdout",
     "output_type": "stream",
     "text": [
      "machine\n"
     ]
    }
   ],
   "source": [
    "name=\"machine learning\"\n",
    "print(name[:7])"
   ]
  },
  {
   "cell_type": "code",
   "execution_count": 76,
   "id": "e64a9b5f",
   "metadata": {},
   "outputs": [
    {
     "name": "stdout",
     "output_type": "stream",
     "text": [
      "ahn\n"
     ]
    }
   ],
   "source": [
    "name=\"machine learning\"\n",
    "print(name[1:6:2])"
   ]
  },
  {
   "cell_type": "code",
   "execution_count": 320,
   "id": "831904d3",
   "metadata": {},
   "outputs": [
    {
     "name": "stdout",
     "output_type": "stream",
     "text": [
      "nal\n"
     ]
    }
   ],
   "source": [
    "name=\"machine learning\"\n",
    "print(name[-4:-9:-2])"
   ]
  },
  {
   "cell_type": "code",
   "execution_count": 321,
   "id": "7a09afa1",
   "metadata": {},
   "outputs": [
    {
     "name": "stdout",
     "output_type": "stream",
     "text": [
      "\n"
     ]
    }
   ],
   "source": [
    "h=print(name[-8:-2:-2])"
   ]
  },
  {
   "cell_type": "code",
   "execution_count": 234,
   "id": "9faed583",
   "metadata": {},
   "outputs": [
    {
     "name": "stdout",
     "output_type": "stream",
     "text": [
      "\n"
     ]
    }
   ],
   "source": [
    "name=\"machine learning\"\n",
    "print(name[-4:-1:-2])"
   ]
  },
  {
   "cell_type": "code",
   "execution_count": 333,
   "id": "71e85874",
   "metadata": {},
   "outputs": [
    {
     "name": "stdout",
     "output_type": "stream",
     "text": [
      "mhea\n"
     ]
    }
   ],
   "source": [
    "name=\"machine learning\"\n",
    "print(name[:9:3]+ name[10])"
   ]
  },
  {
   "cell_type": "code",
   "execution_count": 331,
   "id": "737ac333",
   "metadata": {},
   "outputs": [
    {
     "data": {
      "text/plain": [
       "'a'"
      ]
     },
     "execution_count": 331,
     "metadata": {},
     "output_type": "execute_result"
    }
   ],
   "source": [
    "name[10]"
   ]
  },
  {
   "cell_type": "code",
   "execution_count": 314,
   "id": "306d903c",
   "metadata": {},
   "outputs": [
    {
     "name": "stdout",
     "output_type": "stream",
     "text": [
      "gninrael enihcam\n"
     ]
    }
   ],
   "source": [
    "name=\"machine learning\"\n",
    "print(name[::-1])\n"
   ]
  },
  {
   "cell_type": "code",
   "execution_count": 315,
   "id": "46c336b7",
   "metadata": {},
   "outputs": [
    {
     "name": "stdout",
     "output_type": "stream",
     "text": [
      "gneehm\n"
     ]
    }
   ],
   "source": [
    "name=\"machine learning\"\n",
    "print(name[])"
   ]
  },
  {
   "cell_type": "code",
   "execution_count": 350,
   "id": "8449a0c9",
   "metadata": {},
   "outputs": [
    {
     "name": "stdout",
     "output_type": "stream",
     "text": [
      "a : 10\n",
      "b : 1\n",
      "a number is even\n"
     ]
    }
   ],
   "source": [
    "a=int(input(\"a : \"))\n",
    "b=int(input(\"b : \"))\n",
    "if a%b==0:\n",
    "    print(\"a number is even\")\n",
    "else :\n",
    "    print(\"b number is odd\")"
   ]
  },
  {
   "cell_type": "code",
   "execution_count": 358,
   "id": "2608795c",
   "metadata": {},
   "outputs": [
    {
     "name": "stdout",
     "output_type": "stream",
     "text": [
      "a : 10\n",
      "the number is even\n"
     ]
    }
   ],
   "source": [
    "a=int(input(\"a : \"))\n",
    "if a%2==0:\n",
    "    print(\"the number is even\")\n",
    "else :\n",
    "    print(\"the number is odd\")"
   ]
  },
  {
   "cell_type": "code",
   "execution_count": 381,
   "id": "331fcb24",
   "metadata": {},
   "outputs": [
    {
     "name": "stdout",
     "output_type": "stream",
     "text": [
      "aehm\n"
     ]
    }
   ],
   "source": [
    "name=\"machinelearning\"\n",
    "print(name[-6:-16:-3])"
   ]
  },
  {
   "cell_type": "code",
   "execution_count": 379,
   "id": "0ec58d40",
   "metadata": {},
   "outputs": [
    {
     "data": {
      "text/plain": [
       "'gninraelenihcam'"
      ]
     },
     "execution_count": 379,
     "metadata": {},
     "output_type": "execute_result"
    }
   ],
   "source": [
    "name[::-1]"
   ]
  },
  {
   "cell_type": "code",
   "execution_count": 380,
   "id": "8ebf6d7b",
   "metadata": {},
   "outputs": [
    {
     "data": {
      "text/plain": [
       "'machinelearning'"
      ]
     },
     "execution_count": 380,
     "metadata": {},
     "output_type": "execute_result"
    }
   ],
   "source": [
    "name[::1]"
   ]
  },
  {
   "cell_type": "code",
   "execution_count": 382,
   "id": "309665f8",
   "metadata": {},
   "outputs": [
    {
     "data": {
      "text/plain": [
       "15"
      ]
     },
     "execution_count": 382,
     "metadata": {},
     "output_type": "execute_result"
    }
   ],
   "source": [
    "len(name)"
   ]
  },
  {
   "cell_type": "code",
   "execution_count": 386,
   "id": "d11a5ca8",
   "metadata": {},
   "outputs": [
    {
     "data": {
      "text/plain": [
       "'machinelearnin'"
      ]
     },
     "execution_count": 386,
     "metadata": {},
     "output_type": "execute_result"
    }
   ],
   "source": [
    "name[:14]"
   ]
  },
  {
   "cell_type": "code",
   "execution_count": 388,
   "id": "3ccdae47",
   "metadata": {},
   "outputs": [
    {
     "data": {
      "text/plain": [
       "'machinelearning'"
      ]
     },
     "execution_count": 388,
     "metadata": {},
     "output_type": "execute_result"
    }
   ],
   "source": [
    "name[:16]"
   ]
  },
  {
   "cell_type": "code",
   "execution_count": 1,
   "id": "c5c35f9d",
   "metadata": {},
   "outputs": [
    {
     "name": "stdout",
     "output_type": "stream",
     "text": [
      "sandeep\n"
     ]
    }
   ],
   "source": [
    "print(\"sandeep\")"
   ]
  },
  {
   "cell_type": "code",
   "execution_count": 2,
   "id": "a4207e1c",
   "metadata": {},
   "outputs": [
    {
     "name": "stdout",
     "output_type": "stream",
     "text": [
      "sandeep\n"
     ]
    }
   ],
   "source": [
    "print('sandeep')"
   ]
  },
  {
   "cell_type": "code",
   "execution_count": 3,
   "id": "a80ea041",
   "metadata": {},
   "outputs": [
    {
     "name": "stdout",
     "output_type": "stream",
     "text": [
      "wgbdgjjjgjnjcjjdhhdhjhdhdkdugyceguyefeeugeugegggegeggk\n"
     ]
    }
   ],
   "source": [
    "print(\"\"\"wgbdgjjjgjnjcjjdhhdhjhdhdkdugyceguyefeeugeugegggegeggk\"\"\")"
   ]
  },
  {
   "cell_type": "code",
   "execution_count": 7,
   "id": "81ef8760",
   "metadata": {},
   "outputs": [
    {
     "name": "stdout",
     "output_type": "stream",
     "text": [
      "10\n"
     ]
    }
   ],
   "source": [
    "var_name=10\n",
    "print(o)\n",
    "o=var_name\n"
   ]
  },
  {
   "cell_type": "code",
   "execution_count": null,
   "id": "c9f470fb",
   "metadata": {},
   "outputs": [],
   "source": []
  }
 ],
 "metadata": {
  "kernelspec": {
   "display_name": "Python 3 (ipykernel)",
   "language": "python",
   "name": "python3"
  },
  "language_info": {
   "codemirror_mode": {
    "name": "ipython",
    "version": 3
   },
   "file_extension": ".py",
   "mimetype": "text/x-python",
   "name": "python",
   "nbconvert_exporter": "python",
   "pygments_lexer": "ipython3",
   "version": "3.10.9"
  }
 },
 "nbformat": 4,
 "nbformat_minor": 5
}
