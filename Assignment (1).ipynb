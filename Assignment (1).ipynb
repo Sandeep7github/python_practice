{
 "cells": [
  {
   "cell_type": "markdown",
   "id": "440039d2",
   "metadata": {},
   "source": [
    "# reminder\n"
   ]
  },
  {
   "cell_type": "code",
   "execution_count": 2,
   "id": "e40915c8",
   "metadata": {},
   "outputs": [
    {
     "name": "stdout",
     "output_type": "stream",
     "text": [
      "Enter a number: 12\n",
      "0\n"
     ]
    }
   ],
   "source": [
    "number = int(input(\"Enter a number: \"))\n",
    "remainder = number % 2\n",
    "print(remainder)\n"
   ]
  },
  {
   "cell_type": "markdown",
   "id": "8bec3b34",
   "metadata": {},
   "source": [
    "1.datatype of user input"
   ]
  },
  {
   "cell_type": "code",
   "execution_count": 1,
   "id": "4ec3fe64",
   "metadata": {},
   "outputs": [
    {
     "name": "stdout",
     "output_type": "stream",
     "text": [
      "Enter something: 45\n",
      "The type of the variable is: <class 'str'>\n"
     ]
    }
   ],
   "source": [
    "user_input = input(\"Enter something: \")\n",
    "variable_type = type(user_input)\n",
    "print(\"The type of the variable is:\", variable_type)"
   ]
  },
  {
   "cell_type": "markdown",
   "id": "4cefa671",
   "metadata": {},
   "source": [
    "2.greater number"
   ]
  },
  {
   "cell_type": "code",
   "execution_count": 4,
   "id": "17b1390f",
   "metadata": {},
   "outputs": [
    {
     "name": "stdout",
     "output_type": "stream",
     "text": [
      "b greater than a\n"
     ]
    }
   ],
   "source": [
    "a = 12\n",
    "b = 20\n",
    "\n",
    "if b>=a:\n",
    "    print(\"b greater than a\")\n",
    "else:\n",
    "    print(\"b less than a\")"
   ]
  },
  {
   "cell_type": "markdown",
   "id": "de9480a0",
   "metadata": {},
   "source": [
    "3.double spsce"
   ]
  },
  {
   "cell_type": "code",
   "execution_count": 3,
   "id": "264df119",
   "metadata": {},
   "outputs": [
    {
     "name": "stdout",
     "output_type": "stream",
     "text": [
      "Enter a string: sandeep  m  olekar\n",
      "String without double space: sandeep m olekar\n"
     ]
    }
   ],
   "source": [
    "string = input(\"Enter a string: \")\n",
    "string_without_double_space = \" \".join(string.split())\n",
    "\n",
    "print(\"String without double space:\", string_without_double_space)\n"
   ]
  },
  {
   "cell_type": "markdown",
   "id": "c1006c13",
   "metadata": {},
   "source": [
    "4.find spaces"
   ]
  },
  {
   "cell_type": "code",
   "execution_count": 6,
   "id": "ff57d30c",
   "metadata": {},
   "outputs": [
    {
     "name": "stdout",
     "output_type": "stream",
     "text": [
      "1\n"
     ]
    }
   ],
   "source": [
    "a = \"a kick   boxer\"\n",
    "\n",
    "b = a.find(\" \")\n",
    "print(b)"
   ]
  },
  {
   "cell_type": "markdown",
   "id": "ed7d8473",
   "metadata": {},
   "source": [
    "5.replace a spsce"
   ]
  },
  {
   "cell_type": "code",
   "execution_count": 7,
   "id": "d3686035",
   "metadata": {},
   "outputs": [
    {
     "name": "stdout",
     "output_type": "stream",
     "text": [
      "a kick boxer\n"
     ]
    }
   ],
   "source": [
    "a = \"a kick   boxer\"\n",
    "\n",
    "b = a.replace(\"  \",\"\")\n",
    "print(b)"
   ]
  },
  {
   "cell_type": "markdown",
   "id": "372bbcd9",
   "metadata": {},
   "source": [
    "6.Fruts by user"
   ]
  },
  {
   "cell_type": "code",
   "execution_count": 5,
   "id": "97e7b1e4",
   "metadata": {},
   "outputs": [
    {
     "name": "stdout",
     "output_type": "stream",
     "text": [
      "Enter a fruit: 11\n",
      "Enter a fruit: 55\n",
      "Enter a fruit: \n",
      "Enter a fruit: 4\n",
      "Enter a fruit: 4\n",
      "Enter a fruit: 4\n",
      "Enter a fruit: 55\n",
      "List of fruits: ['11', '55', '', '4', '4', '4', '55']\n"
     ]
    }
   ],
   "source": [
    "fruits = []\n",
    "\n",
    "for i in range(7):\n",
    "    fruit = input(\"Enter a fruit: \")\n",
    "    fruits.append(fruit)\n",
    "\n",
    "print(\"List of fruits:\", fruits)\n"
   ]
  },
  {
   "cell_type": "markdown",
   "id": "2b917727",
   "metadata": {},
   "source": [
    "marks = []\n",
    "\n"
   ]
  },
  {
   "cell_type": "markdown",
   "id": "651831e8",
   "metadata": {},
   "source": [
    "7. sort marks"
   ]
  },
  {
   "cell_type": "code",
   "execution_count": null,
   "id": "0f815025",
   "metadata": {},
   "outputs": [],
   "source": [
    "marks=[]\n",
    "\n",
    "for i in range(6):\n",
    "    marks_s= input(\"enter student marks\")\n",
    "    marks.append(marks_s)\n",
    "    \n",
    "sortedmarks = sorted(marks)\n",
    "    \n",
    "print(sortedmarks)"
   ]
  },
  {
   "cell_type": "markdown",
   "id": "8366002c",
   "metadata": {},
   "source": [
    "8. sort marks"
   ]
  },
  {
   "cell_type": "code",
   "execution_count": null,
   "id": "8e6bb962",
   "metadata": {},
   "outputs": [],
   "source": [
    "marks = []\n",
    "\n",
    "# Accept marks of 6 students\n",
    "for i in range(6):\n",
    "    student_marks = float(input(\"Enter the marks of student {}: \"))\n",
    "    marks.append(student_marks)\n",
    "\n",
    "# Sort the marks in ascending order\n",
    "sorted_marks = sorted(marks)\n",
    "\n",
    "# Display the marks in sorted order\n",
    "print(\"Marks in sorted order:\")\n",
    "for mark in sorted_marks:\n",
    "    print(mark)\n",
    "    \n"
   ]
  },
  {
   "cell_type": "markdown",
   "id": "08d9c0ab",
   "metadata": {},
   "source": [
    "9. tuple is imutable"
   ]
  },
  {
   "cell_type": "code",
   "execution_count": 47,
   "id": "68381bd3",
   "metadata": {},
   "outputs": [],
   "source": [
    "mytuple = [1,2,3,4,5]\n",
    "\n",
    "mytuple[1]= 12"
   ]
  },
  {
   "cell_type": "code",
   "execution_count": null,
   "id": "c7877779",
   "metadata": {},
   "outputs": [],
   "source": [
    "mytuple"
   ]
  },
  {
   "cell_type": "markdown",
   "id": "3189bdec",
   "metadata": {},
   "source": [
    "10. sum of list values"
   ]
  },
  {
   "cell_type": "code",
   "execution_count": null,
   "id": "7595ddf7",
   "metadata": {},
   "outputs": [],
   "source": [
    "mylist = []\n",
    "\n",
    "for i in range(4):\n",
    "    inputlist= float(input(\"enter values:{}\".format(i+1)))\n",
    "    mylist.append(inputlist)\n",
    "    \n",
    "sumoflist= sum(mylist)\n",
    "\n",
    "print(sumoflist)\n",
    "    "
   ]
  },
  {
   "cell_type": "markdown",
   "id": "30dc5647",
   "metadata": {},
   "source": [
    "11. sum of list values"
   ]
  },
  {
   "cell_type": "code",
   "execution_count": 1,
   "id": "d6595737",
   "metadata": {},
   "outputs": [
    {
     "name": "stdout",
     "output_type": "stream",
     "text": [
      "enter values:110\n",
      "enter values:210\n",
      "enter values:310\n",
      "enter values:410\n",
      "40.0\n"
     ]
    }
   ],
   "source": [
    "mylist = []\n",
    "\n",
    "for i in range(4):\n",
    "    inputlist= float(input(\"enter values:{}\".format(i+1)))\n",
    "    mylist.append(inputlist)\n",
    "    \n",
    "sumoflist= sum(mylist)\n",
    "\n",
    "print(sumoflist)"
   ]
  },
  {
   "cell_type": "markdown",
   "id": "5eab4c73",
   "metadata": {},
   "source": [
    "12. find zeros"
   ]
  },
  {
   "cell_type": "code",
   "execution_count": 7,
   "id": "c8919fdd",
   "metadata": {},
   "outputs": [
    {
     "name": "stdout",
     "output_type": "stream",
     "text": [
      "3\n"
     ]
    }
   ],
   "source": [
    "zeros = (1,2,3,0,1,4,0,0,10)\n",
    "\n",
    "print(zeros.count(0))\n"
   ]
  },
  {
   "cell_type": "markdown",
   "id": "1b7ca497",
   "metadata": {},
   "source": [
    "13. zeros"
   ]
  },
  {
   "cell_type": "code",
   "execution_count": 8,
   "id": "78e4f0a6",
   "metadata": {},
   "outputs": [
    {
     "name": "stdout",
     "output_type": "stream",
     "text": [
      "Number of zeros in the tuple: 4\n"
     ]
    }
   ],
   "source": [
    "my_tuple = (0, 2, 0, 4, 0, 6, 8, 0, 10)\n",
    "\n",
    "count = 0\n",
    "\n",
    "for value in my_tuple:\n",
    "    if value == 0:\n",
    "        count += 1\n",
    "\n",
    "print(\"Number of zeros in the tuple:\", count)\n"
   ]
  },
  {
   "cell_type": "markdown",
   "id": "dac5b4a9",
   "metadata": {},
   "source": [
    "14. number of zeros with all numbers"
   ]
  },
  {
   "cell_type": "code",
   "execution_count": 9,
   "id": "06b4eded",
   "metadata": {},
   "outputs": [
    {
     "name": "stdout",
     "output_type": "stream",
     "text": [
      "Number of zeros in the tuple: 5\n"
     ]
    }
   ],
   "source": [
    "my_tuple = (0, 2, 0, 4, 0, 6, 8, 0, 10)\n",
    "\n",
    "count = 0\n",
    "\n",
    "for value in my_tuple:\n",
    "    if str(value).count(\"0\") > 0:\n",
    "        count += 1\n",
    "\n",
    "print(\"Number of zeros in the tuple:\", count)\n"
   ]
  },
  {
   "cell_type": "markdown",
   "id": "6099b315",
   "metadata": {},
   "source": [
    "15. count of zeros\n"
   ]
  },
  {
   "cell_type": "code",
   "execution_count": 11,
   "id": "d9d963ff",
   "metadata": {},
   "outputs": [
    {
     "name": "stdout",
     "output_type": "stream",
     "text": [
      "6\n"
     ]
    }
   ],
   "source": [
    "mytuple = (1,23,0,10,10,23,0,20,40)\n",
    "\n",
    "count = 0\n",
    "\n",
    "for value in mytuple:\n",
    "    \n",
    "    if str(value).count(\"0\") >0:\n",
    "        \n",
    "        count += 1\n",
    "        \n",
    "print(count)"
   ]
  },
  {
   "cell_type": "markdown",
   "id": "2ed19fc1",
   "metadata": {},
   "source": [
    "16. update dictionory"
   ]
  },
  {
   "cell_type": "code",
   "execution_count": 29,
   "id": "c9d44e26",
   "metadata": {},
   "outputs": [
    {
     "name": "stdout",
     "output_type": "stream",
     "text": [
      "{'name': 'manu', 'age': '24'}\n",
      "{'name': 'manu', 'age': '24', 'marks': [58, 99, 67]}\n"
     ]
    }
   ],
   "source": [
    "a = {\n",
    "    \"name\":\"manoj\",\n",
    "    \"age\":\"23\",\n",
    "    \"marks\":[58,99,67]\n",
    "}\n",
    "a.update({\"name\":\"manu\",\"age\":\"24\"})\n",
    "print(mydictupdate)\n",
    "print(a)"
   ]
  },
  {
   "cell_type": "markdown",
   "id": "ccffc01c",
   "metadata": {},
   "source": [
    "17. update keys and values"
   ]
  },
  {
   "cell_type": "code",
   "execution_count": 27,
   "id": "622300e6",
   "metadata": {},
   "outputs": [
    {
     "name": "stdout",
     "output_type": "stream",
     "text": [
      "{'name': 'Mike', 'age': 30, 'city': 'London'}\n"
     ]
    }
   ],
   "source": [
    "my_dict = {\"name\": \"John\", \"age\": 25, \"city\": \"New York\"}\n",
    "\n",
    "# Update the value of a specific key\n",
    "my_dict[\"age\"] = 30\n",
    "\n",
    "# Update the keys and values\n",
    "my_dict.update({\"name\": \"Mike\", \"city\": \"London\"})\n",
    "\n",
    "print(my_dict)\n"
   ]
  },
  {
   "cell_type": "markdown",
   "id": "52a65900",
   "metadata": {},
   "source": [
    "18. get name and values"
   ]
  },
  {
   "cell_type": "code",
   "execution_count": 31,
   "id": "2c6602a8",
   "metadata": {},
   "outputs": [
    {
     "data": {
      "text/plain": [
       "'manoj'"
      ]
     },
     "execution_count": 31,
     "metadata": {},
     "output_type": "execute_result"
    }
   ],
   "source": [
    "a = {\n",
    "    \"name\":\"manoj\",\n",
    "    \"age\":\"23\",\n",
    "    \"marks\":[58,99,67]\n",
    "}\n",
    "\n",
    "a.get(\"name\")"
   ]
  },
  {
   "cell_type": "markdown",
   "id": "ac4c715c",
   "metadata": {},
   "source": [
    "len of dict"
   ]
  },
  {
   "cell_type": "code",
   "execution_count": 32,
   "id": "3d566ab0",
   "metadata": {},
   "outputs": [
    {
     "data": {
      "text/plain": [
       "9"
      ]
     },
     "execution_count": 32,
     "metadata": {},
     "output_type": "execute_result"
    }
   ],
   "source": [
    "s = {1,2,3,4,5,6,7,8,9}\n",
    "\n",
    "len(s)"
   ]
  },
  {
   "cell_type": "markdown",
   "id": "fb4fcd59",
   "metadata": {},
   "source": [
    "Remove value in list"
   ]
  },
  {
   "cell_type": "code",
   "execution_count": 33,
   "id": "02b202db",
   "metadata": {},
   "outputs": [],
   "source": [
    "s.remove(9)"
   ]
  },
  {
   "cell_type": "code",
   "execution_count": 34,
   "id": "80c50698",
   "metadata": {},
   "outputs": [
    {
     "name": "stdout",
     "output_type": "stream",
     "text": [
      "{1, 2, 3, 4, 5, 6, 7, 8}\n"
     ]
    }
   ],
   "source": [
    "print(s)"
   ]
  },
  {
   "cell_type": "code",
   "execution_count": 35,
   "id": "4bcec8ed",
   "metadata": {},
   "outputs": [
    {
     "data": {
      "text/plain": [
       "{1, 2, 3, 4, 5, 6, 7, 8, 10}"
      ]
     },
     "execution_count": 35,
     "metadata": {},
     "output_type": "execute_result"
    }
   ],
   "source": [
    "s.add(10)\n",
    "s"
   ]
  },
  {
   "cell_type": "code",
   "execution_count": 37,
   "id": "4773b155",
   "metadata": {},
   "outputs": [
    {
     "data": {
      "text/plain": [
       "{1, 2, 3, 4, 5, 6, 7, 8, 10, 11, 20}"
      ]
     },
     "execution_count": 37,
     "metadata": {},
     "output_type": "execute_result"
    }
   ],
   "source": [
    "s.union({11,20})"
   ]
  },
  {
   "cell_type": "code",
   "execution_count": 38,
   "id": "df79b26c",
   "metadata": {},
   "outputs": [
    {
     "data": {
      "text/plain": [
       "1"
      ]
     },
     "execution_count": 38,
     "metadata": {},
     "output_type": "execute_result"
    }
   ],
   "source": [
    "s.pop()"
   ]
  },
  {
   "cell_type": "code",
   "execution_count": 39,
   "id": "147d94e8",
   "metadata": {},
   "outputs": [
    {
     "name": "stdout",
     "output_type": "stream",
     "text": [
      "{2, 3, 4, 5, 6, 7, 8, 10}\n"
     ]
    }
   ],
   "source": [
    "print(s)"
   ]
  },
  {
   "cell_type": "code",
   "execution_count": 41,
   "id": "5aaafcdb",
   "metadata": {},
   "outputs": [
    {
     "data": {
      "text/plain": [
       "8"
      ]
     },
     "execution_count": 41,
     "metadata": {},
     "output_type": "execute_result"
    }
   ],
   "source": [
    "len(s)"
   ]
  },
  {
   "cell_type": "markdown",
   "id": "23397771",
   "metadata": {},
   "source": [
    "Datatype of {}"
   ]
  },
  {
   "cell_type": "code",
   "execution_count": 42,
   "id": "abc1f763",
   "metadata": {},
   "outputs": [
    {
     "name": "stdout",
     "output_type": "stream",
     "text": [
      "<class 'dict'>\n"
     ]
    }
   ],
   "source": [
    "s = {}\n",
    "\n",
    "print(type(s))"
   ]
  },
  {
   "cell_type": "markdown",
   "id": "3f177421",
   "metadata": {},
   "source": [
    "User input"
   ]
  },
  {
   "cell_type": "code",
   "execution_count": 43,
   "id": "f8fd4579",
   "metadata": {},
   "outputs": [
    {
     "name": "stdout",
     "output_type": "stream",
     "text": [
      "Enter a Hindi word to look up (or 'exit' to quit): hand\n",
      "Translation not found.\n",
      "Enter a Hindi word to look up (or 'exit' to quit): welcome\n",
      "Translation not found.\n",
      "Enter a Hindi word to look up (or 'exit' to quit): सुंदरत\n",
      "Translation not found.\n",
      "Enter a Hindi word to look up (or 'exit' to quit): \"संयम\"\n",
      "Translation not found.\n",
      "Enter a Hindi word to look up (or 'exit' to quit): exit\n"
     ]
    }
   ],
   "source": [
    "dictionary = {\n",
    "    \"स्वागत\": \"Welcome\",\n",
    "    \"प्यार\": \"Love\",\n",
    "    \"खुशी\": \"Happiness\",\n",
    "    \"सुंदरता\": \"Beauty\",\n",
    "    \"संयम\": \"Discipline\"\n",
    "}\n",
    "\n",
    "while True:\n",
    "    word = input(\"Enter a Hindi word to look up (or 'exit' to quit): \")\n",
    "\n",
    "    if word == 'exit':\n",
    "        break\n",
    "\n",
    "    if word in dictionary:\n",
    "        translation = dictionary[word]\n",
    "        print(\"Translation:\", translation)\n",
    "    else:\n",
    "        print(\"Translation not found.\")\n"
   ]
  },
  {
   "cell_type": "markdown",
   "id": "cf71628b",
   "metadata": {},
   "source": [
    "Unique number (to remove repeated values)"
   ]
  },
  {
   "cell_type": "code",
   "execution_count": 44,
   "id": "58064026",
   "metadata": {},
   "outputs": [
    {
     "name": "stdout",
     "output_type": "stream",
     "text": [
      "enter the number: 12\n",
      "enter the number: 15\n",
      "enter the number: 20\n",
      "enter the number: 50\n",
      "{'12', '15', '20', '50'}\n"
     ]
    }
   ],
   "source": [
    "unique = []\n",
    "\n",
    "for i in range(4):\n",
    "    num = input(\"enter the number: \")\n",
    "    unique.append(num)\n",
    "    \n",
    "uniquenum = set(unique)\n",
    "\n",
    "print(uniquenum)"
   ]
  },
  {
   "cell_type": "markdown",
   "id": "deec4a48",
   "metadata": {},
   "source": [
    "Unique numbers"
   ]
  },
  {
   "cell_type": "code",
   "execution_count": 45,
   "id": "1fba8b3e",
   "metadata": {},
   "outputs": [
    {
     "name": "stdout",
     "output_type": "stream",
     "text": [
      "Unique numbers: {1, 2, 3, 4, 5, 6, 7}\n"
     ]
    }
   ],
   "source": [
    "numbers = [1, 2, 3, 4, 4, 2, 1, 5, 6, 6, 7]\n",
    "unique_numbers = set(numbers)\n",
    "\n",
    "print(\"Unique numbers:\", unique_numbers)\n"
   ]
  },
  {
   "cell_type": "markdown",
   "id": "6d0841bb",
   "metadata": {},
   "source": [
    "Unique numbers"
   ]
  },
  {
   "cell_type": "code",
   "execution_count": 46,
   "id": "5007c254",
   "metadata": {},
   "outputs": [
    {
     "name": "stdout",
     "output_type": "stream",
     "text": [
      "enter the number: 1\n",
      "enter the number: 2\n",
      "enter the number: 1\n",
      "enter the number: 2\n",
      "{'1', '2'}\n"
     ]
    }
   ],
   "source": [
    "unique = []\n",
    "\n",
    "for i in range(4):\n",
    "    num = input(\"enter the number: \")\n",
    "    unique.append(num)\n",
    "    \n",
    "uniquenum = set(unique)\n",
    "\n",
    "print(uniquenum)"
   ]
  },
  {
   "cell_type": "markdown",
   "id": "18d542c4",
   "metadata": {},
   "source": [
    "Length of sets"
   ]
  },
  {
   "cell_type": "code",
   "execution_count": 48,
   "id": "3fe2f590",
   "metadata": {},
   "outputs": [],
   "source": [
    "s = set()\n",
    "s.add(20)\n",
    "s.add(20.0)\n",
    "s.add(\"20\")"
   ]
  },
  {
   "cell_type": "code",
   "execution_count": 49,
   "id": "ed51eccd",
   "metadata": {},
   "outputs": [
    {
     "data": {
      "text/plain": [
       "2"
      ]
     },
     "execution_count": 49,
     "metadata": {},
     "output_type": "execute_result"
    }
   ],
   "source": [
    "len(s)"
   ]
  },
  {
   "cell_type": "code",
   "execution_count": 50,
   "id": "d2cba240",
   "metadata": {},
   "outputs": [
    {
     "name": "stdout",
     "output_type": "stream",
     "text": [
      "{20, '20'}\n"
     ]
    }
   ],
   "source": [
    "print(s)"
   ]
  },
  {
   "cell_type": "code",
   "execution_count": 51,
   "id": "5f2efa33",
   "metadata": {},
   "outputs": [],
   "source": [
    "m = set()"
   ]
  },
  {
   "cell_type": "code",
   "execution_count": 52,
   "id": "c7d62b5e",
   "metadata": {},
   "outputs": [
    {
     "data": {
      "text/plain": [
       "0"
      ]
     },
     "execution_count": 52,
     "metadata": {},
     "output_type": "execute_result"
    }
   ],
   "source": [
    "len(m)"
   ]
  },
  {
   "cell_type": "markdown",
   "id": "a878aa98",
   "metadata": {},
   "source": [
    "Emty Dictionary\n"
   ]
  },
  {
   "cell_type": "code",
   "execution_count": 55,
   "id": "0dfb065e",
   "metadata": {},
   "outputs": [
    {
     "name": "stdout",
     "output_type": "stream",
     "text": [
      "enter values: ddd\n",
      "enter values: ddd\n",
      "enter values: ddd\n",
      "enter values: ddd\n",
      "{}\n"
     ]
    }
   ],
   "source": [
    "dict_my = {}\n",
    "\n",
    "for i in range(4):\n",
    "    value= input(\"enter values: \")\n",
    "print(dict_my)"
   ]
  },
  {
   "cell_type": "code",
   "execution_count": 61,
   "id": "46cbbe42",
   "metadata": {},
   "outputs": [
    {
     "name": "stdout",
     "output_type": "stream",
     "text": [
      "enter names: v\n",
      "enter language: e\n",
      "enter names: m\n",
      "enter language: k\n",
      "enter names: v\n",
      "enter language: h\n",
      "enter names: b\n",
      "enter language: u\n",
      "fav languages\n",
      "v:h\n",
      "m:k\n",
      "b:u\n"
     ]
    }
   ],
   "source": [
    "fav_language = {}\n",
    "\n",
    "for i in range(4):\n",
    "    name = input(\"enter names: \")\n",
    "    language = input(\"enter language: \")\n",
    "    \n",
    "    fav_language[name] = language\n",
    "    \n",
    "print(\"fav languages\")\n",
    "for name,language in fav_language.items():\n",
    "    print(name +\":\"+ language)"
   ]
  },
  {
   "cell_type": "markdown",
   "id": "895dd72c",
   "metadata": {},
   "source": [
    "Can we change the value inside a list which is contained in sets\n"
   ]
  },
  {
   "cell_type": "code",
   "execution_count": 62,
   "id": "4f52e2d6",
   "metadata": {},
   "outputs": [
    {
     "name": "stdout",
     "output_type": "stream",
     "text": [
      "Original set: {('orange', 'grape', 'kiwi'), ('apple', 'banana', 'cherry')}\n",
      "Modified set: {('orange', 'mango', 'kiwi'), ('apple', 'banana', 'cherry')}\n"
     ]
    }
   ],
   "source": [
    "my_set = {(\"apple\", \"banana\", \"cherry\"), (\"orange\", \"grape\", \"kiwi\")}\n",
    "\n",
    "print(\"Original set:\", my_set)\n",
    "\n",
    "# Remove the list from the set\n",
    "my_list = list(my_set.pop())\n",
    "\n",
    "# Modify the list\n",
    "my_list[1] = \"mango\"\n",
    "\n",
    "# Add the modified list back to the set\n",
    "my_set.add(tuple(my_list))\n",
    "\n",
    "print(\"Modified set:\", my_set)\n"
   ]
  },
  {
   "cell_type": "code",
   "execution_count": null,
   "id": "c60703f7",
   "metadata": {},
   "outputs": [],
   "source": []
  }
 ],
 "metadata": {
  "kernelspec": {
   "display_name": "Python 3 (ipykernel)",
   "language": "python",
   "name": "python3"
  },
  "language_info": {
   "codemirror_mode": {
    "name": "ipython",
    "version": 3
   },
   "file_extension": ".py",
   "mimetype": "text/x-python",
   "name": "python",
   "nbconvert_exporter": "python",
   "pygments_lexer": "ipython3",
   "version": "3.10.9"
  }
 },
 "nbformat": 4,
 "nbformat_minor": 5
}
