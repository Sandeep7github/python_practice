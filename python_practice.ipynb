{
 "cells": [
  {
   "cell_type": "code",
   "execution_count": 11,
   "id": "b9ca87d1",
   "metadata": {},
   "outputs": [
    {
     "name": "stdout",
     "output_type": "stream",
     "text": [
      "5\n",
      "its rong number\n"
     ]
    }
   ],
   "source": [
    "a=int(input())\n",
    "if a>5 and a<9:\n",
    "    print(\"its a correct number\")\n",
    "else :\n",
    "    print(\"its rong number\")"
   ]
  },
  {
   "cell_type": "code",
   "execution_count": 17,
   "id": "09f6b8fe",
   "metadata": {},
   "outputs": [
    {
     "name": "stdout",
     "output_type": "stream",
     "text": [
      "99\n",
      "its odd number\n"
     ]
    }
   ],
   "source": [
    "a= int(input())\n",
    "if a%2==0:\n",
    "    print(\"its a even number\")\n",
    "else :\n",
    "    print(\"its odd number\")"
   ]
  },
  {
   "cell_type": "code",
   "execution_count": 31,
   "id": "e39925c8",
   "metadata": {},
   "outputs": [
    {
     "name": "stdout",
     "output_type": "stream",
     "text": [
      "65\n",
      "its b grade\n"
     ]
    }
   ],
   "source": [
    "a=int(input())\n",
    "if a<=100 and a>=85:\n",
    "    print(\"its A grade\")\n",
    "elif a<85 and a>=65:\n",
    "    print(\"its b grade\")\n",
    "elif a<65 and a>=50:\n",
    "    print(\"its c grade\")\n",
    "else :\n",
    "    print(\"its d grade\")"
   ]
  },
  {
   "cell_type": "code",
   "execution_count": 47,
   "id": "b5f056ee",
   "metadata": {},
   "outputs": [
    {
     "name": "stdout",
     "output_type": "stream",
     "text": [
      "10\n",
      "positive num\n",
      "greter then zero\n"
     ]
    }
   ],
   "source": [
    "num=int(input())\n",
    "if num>=0:\n",
    "    print(\"positive num\")\n",
    "    if num==0:\n",
    "        print(\"num is zero\")\n",
    "    else :\n",
    "        print(\"greter then zero\")\n",
    "else:\n",
    "    print(\"negetive num\")"
   ]
  },
  {
   "cell_type": "code",
   "execution_count": 74,
   "id": "b04c93ac",
   "metadata": {},
   "outputs": [
    {
     "name": "stdout",
     "output_type": "stream",
     "text": [
      "sandeep\n",
      "enter pass\n",
      "1234\n",
      "open the page\n"
     ]
    }
   ],
   "source": [
    "usern=\"sandeep\"\n",
    "pas=\"1234\"\n",
    "if usern==input():\n",
    "    print(\"enter pass\")\n",
    "    if pas==input():\n",
    "        print(\"open the page\")\n",
    "    else:\n",
    "        print(\"enter correct pass\")\n",
    "else:\n",
    "    print(\"wrong usern\")"
   ]
  },
  {
   "cell_type": "code",
   "execution_count": 78,
   "id": "30ba1101",
   "metadata": {},
   "outputs": [
    {
     "name": "stdout",
     "output_type": "stream",
     "text": [
      "username: sandeep\n",
      "enter pass\n",
      "pasword: 1234\n",
      "open the page\n"
     ]
    }
   ],
   "source": [
    "usern=\"sandeep\"\n",
    "pas=\"1234\"\n",
    "if usern==input('username: '):\n",
    "    print(\"enter pass\")\n",
    "    if pas==input(\"pasword: \"):\n",
    "        print(\"open the page\")\n",
    "    else:\n",
    "        print(\"enter correct pass\")\n",
    "else:\n",
    "    print(\"wrong usern\")"
   ]
  },
  {
   "cell_type": "code",
   "execution_count": 73,
   "id": "3e9db9b7",
   "metadata": {},
   "outputs": [
    {
     "name": "stdout",
     "output_type": "stream",
     "text": [
      "1234\n"
     ]
    },
    {
     "data": {
      "text/plain": [
       "'1234'"
      ]
     },
     "execution_count": 73,
     "metadata": {},
     "output_type": "execute_result"
    }
   ],
   "source": [
    "input()"
   ]
  },
  {
   "cell_type": "code",
   "execution_count": 77,
   "id": "46228ef2",
   "metadata": {},
   "outputs": [
    {
     "data": {
      "text/plain": [
       "6"
      ]
     },
     "execution_count": 77,
     "metadata": {},
     "output_type": "execute_result"
    }
   ],
   "source": [
    "a=5\n",
    "a=6\n",
    "a"
   ]
  },
  {
   "cell_type": "code",
   "execution_count": 13,
   "id": "2d375f8a",
   "metadata": {},
   "outputs": [
    {
     "name": "stdout",
     "output_type": "stream",
     "text": [
      "enter the number : 14\n",
      "7\n",
      "14 hello 7\n"
     ]
    }
   ],
   "source": [
    "a=int(input(\"enter the number : \"))\n",
    "b=int(input())\n",
    "if a%b==0:\n",
    "    print(\"{} hello {}\".format(a,b))\n",
    "else :\n",
    "    print(\"{} bye {}\".format(a,b))"
   ]
  },
  {
   "cell_type": "code",
   "execution_count": 10,
   "id": "cd9175be",
   "metadata": {},
   "outputs": [
    {
     "name": "stdout",
     "output_type": "stream",
     "text": [
      "enter the age :18\n",
      "eligible for voting\n"
     ]
    }
   ],
   "source": [
    "b=int(input(\"enter the age :\"))\n",
    "if b>=18  :\n",
    "    print(\"eligible for voting\")\n",
    "else :\n",
    "    print(\"not eligible for voting\")"
   ]
  },
  {
   "cell_type": "code",
   "execution_count": 11,
   "id": "741374cf",
   "metadata": {},
   "outputs": [
    {
     "name": "stdout",
     "output_type": "stream",
     "text": [
      "enter the number : 15\n",
      "8\n",
      "15 is not divisible by 8\n"
     ]
    }
   ],
   "source": [
    "c=int(input(\"enter the number : \"))\n",
    "d=int(input())\n",
    "if c%d==0:\n",
    "    print(\"{} is divisible by {}\".format(c,d))\n",
    "else :\n",
    "    print(\"{} is not divisible by {}\".format(c,d))"
   ]
  },
  {
   "cell_type": "code",
   "execution_count": 147,
   "id": "8ff7819f",
   "metadata": {},
   "outputs": [
    {
     "name": "stdout",
     "output_type": "stream",
     "text": [
      "enter the unit : 54\n",
      "no charge\n"
     ]
    }
   ],
   "source": [
    "a=int(input(\"enter the unit : \"))\n",
    "if  a<=100:\n",
    "    print(\"no charge\")\n",
    "elif a>100 and a<=200 :\n",
    "    print(\"5 per unit\")\n",
    "elif a>200 :\n",
    "    print(\"10 per unit\")\n",
    "elif a==350 :\n",
    "    print(\"bill amount is 2000\")\n",
    "\n",
    "    "
   ]
  },
  {
   "cell_type": "code",
   "execution_count": 189,
   "id": "702e3227",
   "metadata": {},
   "outputs": [
    {
     "name": "stdout",
     "output_type": "stream",
     "text": [
      "18\n",
      "18 is divisible by 2 and 3\n"
     ]
    }
   ],
   "source": [
    "a=int(input())\n",
    "if a%2==0 and a%3==0:\n",
    "    print(\"{} is divisible by 2 and 3\".format(a))\n",
    "else:\n",
    "    print(\"not divisible\")"
   ]
  },
  {
   "cell_type": "code",
   "execution_count": 176,
   "id": "5cf561f8",
   "metadata": {},
   "outputs": [
    {
     "name": "stdout",
     "output_type": "stream",
     "text": [
      "4\n",
      "april\n"
     ]
    }
   ],
   "source": [
    "a=int(input())\n",
    "if a==1:\n",
    "    print(\"jan\")\n",
    "elif a==2:\n",
    "        print(\"feb\")\n",
    "elif a==3:\n",
    "        print(\"march\")\n",
    "elif a==4:\n",
    "        print(\"april\")\n",
    "elif a==5:\n",
    "        print(\"may\")\n",
    "elif a==6:\n",
    "        print(\"june\")\n",
    "elif a==7:\n",
    "        print(\"july\")\n",
    "elif a==8:\n",
    "        print(\"aug\")\n",
    "elif a==9:\n",
    "        print(\"sepl\")\n",
    "elif a==10:\n",
    "        print(\"oct\")\n",
    "elif a==11:\n",
    "        print(\"nov\")\n",
    "elif a==12:\n",
    "        print(\"dec\")\n",
    "else:\n",
    "    print(\"not\")\n",
    "    \n",
    "    \n"
   ]
  },
  {
   "cell_type": "code",
   "execution_count": 183,
   "id": "02571407",
   "metadata": {},
   "outputs": [
    {
     "name": "stdout",
     "output_type": "stream",
     "text": [
      "enter the month30\n",
      "the month should be in 1 to 12\n"
     ]
    }
   ],
   "source": [
    "a=int(input(\"enter the month\"))\n",
    "if a>=1 and a<=12:\n",
    "    if a==1:\n",
    "        print(\"jan\")\n",
    "    elif a==2:\n",
    "        print(\"feb\")\n",
    "    elif a==3:\n",
    "        print(\"march\")\n",
    "    elif a==4:\n",
    "        print(\"april\")\n",
    "    elif a==5:\n",
    "        print(\"may\")\n",
    "    elif a==6:\n",
    "        print(\"june\")\n",
    "    elif a==7:\n",
    "        print(\"july\")\n",
    "    elif a==8:\n",
    "        print(\"aug\")\n",
    "    elif a==9:\n",
    "        print(\"sepl\")\n",
    "    elif a==10:\n",
    "        print(\"oct\")\n",
    "    elif a==11:\n",
    "        print(\"nov\")\n",
    "    elif a==12:\n",
    "        print(\"dec\")\n",
    "else:\n",
    "    print(\"the month should be in 1 to 12\")"
   ]
  },
  {
   "cell_type": "code",
   "execution_count": 190,
   "id": "d4265a26",
   "metadata": {},
   "outputs": [
    {
     "name": "stdout",
     "output_type": "stream",
     "text": [
      "Enter the Unit that you will Consumed: 15\n",
      "Your electricity bill: 47.50\n"
     ]
    }
   ],
   "source": [
    "#function defination\n",
    "def ElectricBillCal(units):\n",
    "    if units > 0 and units <= 100:\n",
    "        payment = units * 1.5\n",
    "        fixedCharge = 25 # Extra charge\n",
    "    elif units > 100 and units <= 200:\n",
    "        payment = (100 * 1.5) + (units - 100) * 2.5\n",
    "        fixedCharge = 50 # Extra charge\n",
    "    elif units > 200 and units <= 300:\n",
    "        payment =  (100 * 1.5) + (200 - 100) * 2.5 + (units - 200) * 4\n",
    "        fixedCharge = 75 # Extra charge\n",
    "    elif units > 300 and units <= 350:\n",
    "        payment = (100 * 1.5) + (200 - 100) * 2.5 + (300 - 200) * 4 + (units - 300) * 5   \n",
    "        fixedCharge = 100 # Extra charge\n",
    "    else:\n",
    "        payment = 0\n",
    "        fixedCharge = 1500\n",
    "    \n",
    "    return payment + fixedCharge\n",
    "\n",
    "u = float(input(\"Enter the Unit that you will Consumed: \"))\n",
    "totalBill = ElectricBillCal(u) # call a function\n",
    "\n",
    "print(f\"Your electricity bill: {totalBill:.2f}\")"
   ]
  },
  {
   "cell_type": "code",
   "execution_count": 196,
   "id": "c80434b1",
   "metadata": {},
   "outputs": [
    {
     "name": "stdout",
     "output_type": "stream",
     "text": [
      "Enter The Amount Of Units Consumed:15\n",
      "Amount To Be Paid Is: 7.5\n"
     ]
    }
   ],
   "source": [
    "u = int(input('Enter The Amount Of Units Consumed:'))\n",
    "\n",
    "if u <= 50:\n",
    "\n",
    "    amt = u*0.5\n",
    "\n",
    "    print('Amount To Be Paid Is:',amt)\n",
    "\n",
    "elif u <= 150 and u > 50:\n",
    "\n",
    "    amt = (50*0.5) + ((u-50)*0.75)\n",
    "    \n",
    "    print('Amount To Be Paid Is:',amt)\n",
    "\n",
    "elif u <= 250 and u > 150:\n",
    "\n",
    "    amt = (50*0.5) + (100*0.75) + ((u-150)*1.2)\n",
    "\n",
    "    print('Amount To Be Paid Is:',amt)\n",
    "\n",
    "else:\n",
    "\n",
    "    amt = (50*0.5) + (100*0.75) + (100*1.2) + ((u-250)*1.5)\n",
    "\n",
    "    print('Amount To Be Paid Is:',amt)\n",
    "\n",
    "    print('Process Completed')\n",
    "    #Write a python program to input electricity unit charges and calculate total electricity bill according to the given condition:\n",
    "For first 50 units Rs. 0.50/unit\n",
    "For next 100 units Rs. 0.75/unit\n",
    "For next 100 units Rs. 1.20/unit\n",
    "For unit above 250 Rs. 1.50/unit\n",
    "An additional surcharge of 20% is added to the bill"
   ]
  },
  {
   "cell_type": "code",
   "execution_count": 25,
   "id": "2efb0af6",
   "metadata": {},
   "outputs": [
    {
     "name": "stdout",
     "output_type": "stream",
     "text": [
      "350\n",
      "2000\n"
     ]
    }
   ],
   "source": [
    "c=int(input())\n",
    "if c<=100:\n",
    "    d=c*0\n",
    "elif c>100 and c<200:\n",
    "     d=(c-100)*5\n",
    "elif c>200:\n",
    "    d=((c-200)*10+100*5+100*0)\n",
    "print(d)\n",
    "    \n",
    "    "
   ]
  },
  {
   "cell_type": "code",
   "execution_count": 37,
   "id": "0903f530",
   "metadata": {},
   "outputs": [
    {
     "name": "stdout",
     "output_type": "stream",
     "text": [
      "150\n",
      "250\n"
     ]
    }
   ],
   "source": [
    "c=int(input())\n",
    "if c<=100:\n",
    "    print(c*0)\n",
    "elif c>100 and c<=200:\n",
    "     print((c-100)*5)\n",
    "elif c>200:\n",
    "    print((c-200)*10+100*5)"
   ]
  },
  {
   "cell_type": "code",
   "execution_count": 39,
   "id": "41ce7507",
   "metadata": {},
   "outputs": [
    {
     "name": "stdout",
     "output_type": "stream",
     "text": [
      "150\n",
      "250\n"
     ]
    }
   ],
   "source": [
    "c=int(input())\n",
    "if c<=100:\n",
    "    print((c*0))\n",
    "elif c>100 and c<=200:\n",
    "    print((c-100)*5)\n",
    "    \n",
    "elif c>200:\n",
    "    print((c-200)*10+100*5)"
   ]
  },
  {
   "cell_type": "code",
   "execution_count": 41,
   "id": "3087938f",
   "metadata": {},
   "outputs": [
    {
     "name": "stdout",
     "output_type": "stream",
     "text": [
      "enter the unit : 150\n",
      "250\n"
     ]
    }
   ],
   "source": [
    " a=int(input(\"enter the unit : \"))\n",
    "if  a<=100:\n",
    "    print((a*0))\n",
    "elif a>100 and a<=200 :\n",
    "    print((a-100)*5)\n",
    "elif a>200:\n",
    "    print((a-200)*10+100*5)+100*0\n"
   ]
  },
  {
   "cell_type": "code",
   "execution_count": 46,
   "id": "76e8ce76",
   "metadata": {},
   "outputs": [
    {
     "name": "stdout",
     "output_type": "stream",
     "text": [
      "22\n",
      "its not three digit\n"
     ]
    }
   ],
   "source": [
    "h=int(input())\n",
    "if h>=100 and h<=999:\n",
    "    print(\"its three digiht\")\n",
    "else:\n",
    "    print(\"its not three digit\")"
   ]
  },
  {
   "cell_type": "code",
   "execution_count": 54,
   "id": "cd9fd2a6",
   "metadata": {},
   "outputs": [
    {
     "name": "stdout",
     "output_type": "stream",
     "text": [
      "1452\n",
      "four digit number\n"
     ]
    }
   ],
   "source": [
    "n=(input())\n",
    "if len(n)==4:\n",
    "    print('four digit number')\n",
    "else:\n",
    "    print('not')"
   ]
  },
  {
   "cell_type": "code",
   "execution_count": 58,
   "id": "99a67627",
   "metadata": {},
   "outputs": [
    {
     "name": "stdout",
     "output_type": "stream",
     "text": [
      "21\n",
      "two digit\n"
     ]
    }
   ],
   "source": [
    "h=input()\n",
    "if len(h)==2:\n",
    "    print(\"two digit\")\n",
    "else: print(\"not\")"
   ]
  },
  {
   "cell_type": "code",
   "execution_count": 25,
   "id": "8e5d3217",
   "metadata": {},
   "outputs": [
    {
     "name": "stdout",
     "output_type": "stream",
     "text": [
      "120\n"
     ]
    }
   ],
   "source": [
    "n=1\n",
    "for i in l:\n",
    "    n=n*i\n",
    "print(n)"
   ]
  },
  {
   "cell_type": "code",
   "execution_count": 29,
   "id": "8fed7bfe",
   "metadata": {},
   "outputs": [
    {
     "name": "stdout",
     "output_type": "stream",
     "text": [
      "1\n",
      "2\n",
      "6\n",
      "24\n",
      "120\n"
     ]
    }
   ],
   "source": [
    "n=1\n",
    "for i in l:\n",
    "    n=n*i\n",
    "    print(n)"
   ]
  },
  {
   "cell_type": "code",
   "execution_count": 27,
   "id": "28dd0c18",
   "metadata": {},
   "outputs": [
    {
     "data": {
      "text/plain": [
       "[1, 2, 3, 4, 5]"
      ]
     },
     "execution_count": 27,
     "metadata": {},
     "output_type": "execute_result"
    }
   ],
   "source": [
    "l"
   ]
  },
  {
   "cell_type": "code",
   "execution_count": 30,
   "id": "aa61eb50",
   "metadata": {},
   "outputs": [],
   "source": [
    "l=[2,4,6,8,]"
   ]
  },
  {
   "cell_type": "code",
   "execution_count": 32,
   "id": "1af69ddc",
   "metadata": {},
   "outputs": [
    {
     "name": "stdout",
     "output_type": "stream",
     "text": [
      "384\n"
     ]
    }
   ],
   "source": [
    "n=1\n",
    "for i in l:\n",
    "    n=n*i\n",
    "print(n)"
   ]
  },
  {
   "cell_type": "code",
   "execution_count": 2,
   "id": "0ef52b87",
   "metadata": {},
   "outputs": [
    {
     "ename": "NameError",
     "evalue": "name 'A' is not defined",
     "output_type": "error",
     "traceback": [
      "\u001b[1;31m---------------------------------------------------------------------------\u001b[0m",
      "\u001b[1;31mNameError\u001b[0m                                 Traceback (most recent call last)",
      "Cell \u001b[1;32mIn[2], line 1\u001b[0m\n\u001b[1;32m----> 1\u001b[0m \u001b[38;5;28mprint\u001b[39m(\u001b[43mA\u001b[49m[\u001b[38;5;241m2\u001b[39m][\u001b[38;5;241m1\u001b[39m])\n",
      "\u001b[1;31mNameError\u001b[0m: name 'A' is not defined"
     ]
    }
   ],
   "source": [
    "print(A[2][1])"
   ]
  },
  {
   "cell_type": "code",
   "execution_count": null,
   "id": "e88ee396",
   "metadata": {},
   "outputs": [],
   "source": []
  }
 ],
 "metadata": {
  "kernelspec": {
   "display_name": "Python 3 (ipykernel)",
   "language": "python",
   "name": "python3"
  },
  "language_info": {
   "codemirror_mode": {
    "name": "ipython",
    "version": 3
   },
   "file_extension": ".py",
   "mimetype": "text/x-python",
   "name": "python",
   "nbconvert_exporter": "python",
   "pygments_lexer": "ipython3",
   "version": "3.10.9"
  }
 },
 "nbformat": 4,
 "nbformat_minor": 5
}
