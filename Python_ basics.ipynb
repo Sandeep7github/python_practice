{
 "cells": [
  {
   "cell_type": "markdown",
   "id": "7b4feeb2",
   "metadata": {},
   "source": [
    "# Print"
   ]
  },
  {
   "cell_type": "raw",
   "id": "08bbc405",
   "metadata": {},
   "source": [
    "print is a function which helps to display a message or output in python.\n",
    "message should be in strings "
   ]
  },
  {
   "cell_type": "code",
   "execution_count": 1,
   "id": "43cf6464",
   "metadata": {},
   "outputs": [
    {
     "name": "stdout",
     "output_type": "stream",
     "text": [
      "Hello\n"
     ]
    }
   ],
   "source": [
    "print(\"Hello\")"
   ]
  },
  {
   "cell_type": "raw",
   "id": "722cea48",
   "metadata": {},
   "source": [
    "# EXAMPLES"
   ]
  },
  {
   "cell_type": "code",
   "execution_count": 2,
   "id": "93e01fd1",
   "metadata": {},
   "outputs": [
    {
     "name": "stdout",
     "output_type": "stream",
     "text": [
      "Hi sir, How are u?\n",
      "Hi sir,How are u?\n"
     ]
    }
   ],
   "source": [
    "print('Hi sir, How are u?')  \n",
    "\n",
    "print(\"Hi sir,How are u?\")    "
   ]
  },
  {
   "cell_type": "code",
   "execution_count": 3,
   "id": "59cfcd41",
   "metadata": {},
   "outputs": [
    {
     "ename": "SyntaxError",
     "evalue": "unterminated string literal (detected at line 1) (1803188138.py, line 1)",
     "output_type": "error",
     "traceback": [
      "\u001b[1;36m  Cell \u001b[1;32mIn[3], line 1\u001b[1;36m\u001b[0m\n\u001b[1;33m    print(\"Hi sir,\u001b[0m\n\u001b[1;37m          ^\u001b[0m\n\u001b[1;31mSyntaxError\u001b[0m\u001b[1;31m:\u001b[0m unterminated string literal (detected at line 1)\n"
     ]
    }
   ],
   "source": [
    "print(\"Hi sir,\n",
    "      How are u?\")"
   ]
  },
  {
   "cell_type": "raw",
   "id": "710c730b",
   "metadata": {},
   "source": [
    "1.single and double quotations are used for single line messages  ('',\"\")\n",
    "\n",
    "2. for multiple line message we use triple quotations ('''''')"
   ]
  },
  {
   "cell_type": "code",
   "execution_count": null,
   "id": "f6e7031d",
   "metadata": {},
   "outputs": [],
   "source": [
    "print('''Hi sir,\n",
    "How are u?''')"
   ]
  },
  {
   "cell_type": "markdown",
   "id": "5ac6d838",
   "metadata": {},
   "source": [
    "# Variable"
   ]
  },
  {
   "cell_type": "raw",
   "id": "cbacc064",
   "metadata": {},
   "source": [
    "varaible is a memory location to store values"
   ]
  },
  {
   "cell_type": "raw",
   "id": "0bc9ddc7",
   "metadata": {},
   "source": [
    "Syntax: var_name= value"
   ]
  },
  {
   "cell_type": "code",
   "execution_count": 4,
   "id": "6a600158",
   "metadata": {},
   "outputs": [],
   "source": [
    "var_name=10   # Here the value of var_name is 10"
   ]
  },
  {
   "cell_type": "code",
   "execution_count": 5,
   "id": "84a8e88a",
   "metadata": {},
   "outputs": [
    {
     "name": "stdout",
     "output_type": "stream",
     "text": [
      "10\n"
     ]
    }
   ],
   "source": [
    "print(var_name)"
   ]
  },
  {
   "cell_type": "markdown",
   "id": "08a1be22",
   "metadata": {},
   "source": [
    "# Rules and naming convention "
   ]
  },
  {
   "cell_type": "markdown",
   "id": "99518b9a",
   "metadata": {},
   "source": [
    "1) Constant and variable names should have a combination of letters in lower case [a to z] or upper case [A to Z] or digit (0 to 9)\n",
    "or an underscore(_)"
   ]
  },
  {
   "cell_type": "markdown",
   "id": "a58c6f9b",
   "metadata": {},
   "source": [
    "Examples:\n",
    "variable_name=10\\\n",
    "VARIABLE_NAME=10\\\n",
    "varname=10\\\n",
    "variable23=10"
   ]
  },
  {
   "cell_type": "markdown",
   "id": "2652b818",
   "metadata": {},
   "source": [
    "2) Create a name that makes sense. for example: variable makes sense than v (v=10)"
   ]
  },
  {
   "cell_type": "markdown",
   "id": "e7b29983",
   "metadata": {},
   "source": [
    "3) If you want to create a variable name having two words, use UNDERSCORE to separate them.\n",
    "\n",
    "example:\n",
    "\n",
    "variable_name=10"
   ]
  },
  {
   "cell_type": "markdown",
   "id": "6211d49e",
   "metadata": {},
   "source": [
    "4) Never use special symbols like ( ! @ # $ % ^ & *)\n",
    "\n",
    "5) Donot start a variables name with digit\n",
    "\n",
    "\n",
    "Example: donot use\n",
    "    \n",
    "@varname=10\n",
    "\n",
    "23_name=10"
   ]
  },
  {
   "cell_type": "markdown",
   "id": "c64bb182",
   "metadata": {},
   "source": [
    "6. Reserved words (Built-in keywords) cannot be used as variable name.\n",
    "\n",
    "examples:\n",
    "    \n",
    "int=10  ( int is a function can't  assign as varaible )"
   ]
  },
  {
   "cell_type": "code",
   "execution_count": 6,
   "id": "e65de5df",
   "metadata": {},
   "outputs": [
    {
     "name": "stdout",
     "output_type": "stream",
     "text": [
      "10 20\n"
     ]
    }
   ],
   "source": [
    "v1=10\n",
    "v2=20\n",
    "print(v1,v2)"
   ]
  },
  {
   "cell_type": "code",
   "execution_count": 7,
   "id": "6bceb85f",
   "metadata": {},
   "outputs": [
    {
     "name": "stdout",
     "output_type": "stream",
     "text": [
      "20\n"
     ]
    }
   ],
   "source": [
    "v1=10\n",
    "v1=20\n",
    "print(v1)  # Updating the varaible"
   ]
  },
  {
   "cell_type": "code",
   "execution_count": 8,
   "id": "5c2c6fd5",
   "metadata": {},
   "outputs": [
    {
     "name": "stdout",
     "output_type": "stream",
     "text": [
      "25 25 25\n"
     ]
    }
   ],
   "source": [
    "a=b=c=25\n",
    "print(a,b,c)"
   ]
  },
  {
   "cell_type": "code",
   "execution_count": 9,
   "id": "b0f06ea8",
   "metadata": {},
   "outputs": [
    {
     "name": "stdout",
     "output_type": "stream",
     "text": [
      "45\n"
     ]
    }
   ],
   "source": [
    "q=45\n",
    "w=q\n",
    "print(w)"
   ]
  },
  {
   "cell_type": "markdown",
   "id": "81e6db8f",
   "metadata": {},
   "source": [
    "# Data Types"
   ]
  },
  {
   "cell_type": "markdown",
   "id": "2f9e9716",
   "metadata": {},
   "source": [
    "int ---> will take whole number values not the decimal points from -ve to +ve"
   ]
  },
  {
   "cell_type": "markdown",
   "id": "1e4e1148",
   "metadata": {},
   "source": [
    "To find the datatype use type function"
   ]
  },
  {
   "cell_type": "code",
   "execution_count": 10,
   "id": "6d139d7f",
   "metadata": {},
   "outputs": [
    {
     "name": "stdout",
     "output_type": "stream",
     "text": [
      "10\n",
      "<class 'int'>\n"
     ]
    }
   ],
   "source": [
    "a=10\n",
    "print(a)\n",
    "print(type(a))"
   ]
  },
  {
   "cell_type": "code",
   "execution_count": 11,
   "id": "ef4f1eb9",
   "metadata": {},
   "outputs": [
    {
     "name": "stdout",
     "output_type": "stream",
     "text": [
      "-10\n",
      "<class 'int'>\n"
     ]
    }
   ],
   "source": [
    "b=-10\n",
    "print(b)\n",
    "print(type(b))"
   ]
  },
  {
   "cell_type": "markdown",
   "id": "7eb26982",
   "metadata": {},
   "source": [
    "float ----> it can take decimal values from -ve to +ve"
   ]
  },
  {
   "cell_type": "code",
   "execution_count": 12,
   "id": "b6aa2e53",
   "metadata": {},
   "outputs": [
    {
     "name": "stdout",
     "output_type": "stream",
     "text": [
      "2.5\n",
      "<class 'float'>\n"
     ]
    }
   ],
   "source": [
    "a=2.5\n",
    "print(a)\n",
    "print(type(a))"
   ]
  },
  {
   "cell_type": "code",
   "execution_count": 13,
   "id": "bd31b484",
   "metadata": {},
   "outputs": [
    {
     "name": "stdout",
     "output_type": "stream",
     "text": [
      "-2.5\n",
      "<class 'float'>\n"
     ]
    }
   ],
   "source": [
    "a=-2.5\n",
    "print(a)\n",
    "print(type(a))"
   ]
  },
  {
   "cell_type": "markdown",
   "id": "ab853470",
   "metadata": {},
   "source": [
    "bool --> the output will be True (or) False\n",
    "\n",
    "In True (T is capital letter )\n",
    "\n",
    "In False (F is capital letter )"
   ]
  },
  {
   "cell_type": "code",
   "execution_count": 14,
   "id": "5e95070d",
   "metadata": {},
   "outputs": [
    {
     "name": "stdout",
     "output_type": "stream",
     "text": [
      "True\n",
      "<class 'bool'>\n"
     ]
    }
   ],
   "source": [
    "a=True\n",
    "print(a)\n",
    "print(type(a))"
   ]
  },
  {
   "cell_type": "code",
   "execution_count": 15,
   "id": "142b7b11",
   "metadata": {},
   "outputs": [
    {
     "name": "stdout",
     "output_type": "stream",
     "text": [
      "False\n",
      "<class 'bool'>\n"
     ]
    }
   ],
   "source": [
    "b=False\n",
    "print(b)\n",
    "print(type(b))"
   ]
  },
  {
   "cell_type": "markdown",
   "id": "4c2f847c",
   "metadata": {},
   "source": [
    "String ---> group of alphabets,messages lies between quotations only ('')"
   ]
  },
  {
   "cell_type": "code",
   "execution_count": 16,
   "id": "656fb0b2",
   "metadata": {},
   "outputs": [
    {
     "name": "stdout",
     "output_type": "stream",
     "text": [
      "Examroom\n",
      "<class 'str'>\n"
     ]
    }
   ],
   "source": [
    "name=\"Examroom\"\n",
    "print(name)\n",
    "print(type(name))"
   ]
  },
  {
   "cell_type": "markdown",
   "id": "da59d833",
   "metadata": {},
   "source": [
    "complex ---> It takes real and imaginary "
   ]
  },
  {
   "cell_type": "code",
   "execution_count": 17,
   "id": "94c8325b",
   "metadata": {},
   "outputs": [
    {
     "name": "stdout",
     "output_type": "stream",
     "text": [
      "(3+2j)\n",
      "<class 'complex'>\n"
     ]
    }
   ],
   "source": [
    "a=3+2j\n",
    "print(a)\n",
    "print(type(a))"
   ]
  },
  {
   "cell_type": "markdown",
   "id": "6d67b24e",
   "metadata": {},
   "source": [
    "# SEP and END  functions"
   ]
  },
  {
   "cell_type": "markdown",
   "id": "6264e0da",
   "metadata": {},
   "source": [
    "1.sep function ---> it tells what need to be done b/w each objects (values (or) variables)"
   ]
  },
  {
   "cell_type": "code",
   "execution_count": 18,
   "id": "eb6f69e7",
   "metadata": {},
   "outputs": [
    {
     "name": "stdout",
     "output_type": "stream",
     "text": [
      "10/20\n"
     ]
    }
   ],
   "source": [
    "a=10\n",
    "b=20\n",
    "print(a,b,sep=\"/\")"
   ]
  },
  {
   "cell_type": "code",
   "execution_count": 19,
   "id": "6adeae98",
   "metadata": {},
   "outputs": [
    {
     "name": "stdout",
     "output_type": "stream",
     "text": [
      "10\n",
      "20\n"
     ]
    }
   ],
   "source": [
    "# if u what to print a and b values in separate line \n",
    "\n",
    "print(a,b,sep=\"\\n\")"
   ]
  },
  {
   "cell_type": "code",
   "execution_count": 20,
   "id": "1e5ab335",
   "metadata": {},
   "outputs": [
    {
     "name": "stdout",
     "output_type": "stream",
     "text": [
      "Examroom__AI/ML__Department\n"
     ]
    }
   ],
   "source": [
    "a=\"Examroom\"\n",
    "b=\"AI/ML\"\n",
    "c=\"Department\"\n",
    "print(a,b,c,sep=\"__\")"
   ]
  },
  {
   "cell_type": "markdown",
   "id": "d7c3f8c1",
   "metadata": {},
   "source": [
    "2. End function which helps what needs to be happen during the end of the print statement."
   ]
  },
  {
   "cell_type": "code",
   "execution_count": 21,
   "id": "2046ab63",
   "metadata": {},
   "outputs": [
    {
     "name": "stdout",
     "output_type": "stream",
     "text": [
      "Hi, How are you?"
     ]
    }
   ],
   "source": [
    "print(\"Hi, How are you\",end=\"?\")"
   ]
  },
  {
   "cell_type": "code",
   "execution_count": 22,
   "id": "29a19cc7",
   "metadata": {},
   "outputs": [
    {
     "name": "stdout",
     "output_type": "stream",
     "text": [
      "Studytonight\n",
      "is awesome\n",
      "Studytonight\n",
      "is awesome\n"
     ]
    }
   ],
   "source": [
    "print(\"Studytonight\",)\n",
    "print(\"is awesome\")\n",
    "\n",
    "print(\"Studytonight\", end= \"\\n\")\n",
    "print(\"is awesome\")"
   ]
  },
  {
   "cell_type": "markdown",
   "id": "6ee89e52",
   "metadata": {},
   "source": [
    "By default, the print the method ends with a new line. This means there is no need to explicitly specify the parameter end as '\\n'. "
   ]
  },
  {
   "cell_type": "code",
   "execution_count": 23,
   "id": "4d1e3f0f",
   "metadata": {},
   "outputs": [
    {
     "name": "stdout",
     "output_type": "stream",
     "text": [
      "Studytonight is awesome\n"
     ]
    }
   ],
   "source": [
    "print(\"Studytonight\", end=' ')\n",
    "print(\"is awesome\")"
   ]
  },
  {
   "cell_type": "markdown",
   "id": "e67c41ac",
   "metadata": {},
   "source": [
    "Note:  Both SEP,END functions should contains only string"
   ]
  },
  {
   "cell_type": "code",
   "execution_count": 24,
   "id": "0d1a08a8",
   "metadata": {},
   "outputs": [
    {
     "name": "stdout",
     "output_type": "stream",
     "text": [
      "Studytonight _ has _ been _ created _ for _STUDENTS"
     ]
    }
   ],
   "source": [
    "print(\"Studytonight\",\"has\",\"been\",\"created\",\"for\", sep = \" _ \", end=\" _STUDENTS\")"
   ]
  },
  {
   "cell_type": "markdown",
   "id": "4eb03217",
   "metadata": {},
   "source": [
    "# Arithmetic operations"
   ]
  },
  {
   "cell_type": "markdown",
   "id": "97fa8320",
   "metadata": {},
   "source": [
    "Arithmetic operations(-,+,*,/,//,%)"
   ]
  },
  {
   "cell_type": "code",
   "execution_count": 25,
   "id": "1e8af09d",
   "metadata": {},
   "outputs": [
    {
     "name": "stdout",
     "output_type": "stream",
     "text": [
      "30\n"
     ]
    }
   ],
   "source": [
    "a=10\n",
    "b=20\n",
    "print(a+b)"
   ]
  },
  {
   "cell_type": "code",
   "execution_count": 26,
   "id": "b6eb9e6e",
   "metadata": {},
   "outputs": [
    {
     "name": "stdout",
     "output_type": "stream",
     "text": [
      "-10\n",
      "200\n"
     ]
    }
   ],
   "source": [
    "print(a-b)\n",
    "print(a*b)"
   ]
  },
  {
   "cell_type": "markdown",
   "id": "74fcd648",
   "metadata": {},
   "source": [
    "3 Types of divisions"
   ]
  },
  {
   "cell_type": "markdown",
   "id": "362303f6",
   "metadata": {},
   "source": [
    "/ ---> float division(it focus on quotient and gives the decimal values)"
   ]
  },
  {
   "cell_type": "code",
   "execution_count": 27,
   "id": "b3da63ec",
   "metadata": {},
   "outputs": [
    {
     "name": "stdout",
     "output_type": "stream",
     "text": [
      "3.3333333333333335\n"
     ]
    }
   ],
   "source": [
    "#example\n",
    "a=10\n",
    "b=3\n",
    "print(a/b)"
   ]
  },
  {
   "cell_type": "markdown",
   "id": "89594235",
   "metadata": {},
   "source": [
    "// ---> floor division(it focus on quotient and gives the int values)"
   ]
  },
  {
   "cell_type": "code",
   "execution_count": 28,
   "id": "dd40604a",
   "metadata": {},
   "outputs": [
    {
     "name": "stdout",
     "output_type": "stream",
     "text": [
      "3\n"
     ]
    }
   ],
   "source": [
    "#example\n",
    "a=10\n",
    "b=3\n",
    "print(a//b)"
   ]
  },
  {
   "cell_type": "markdown",
   "id": "b7c135cd",
   "metadata": {},
   "source": [
    "% ---> modulo (it focus on the remainder and gives reminder as output)"
   ]
  },
  {
   "cell_type": "code",
   "execution_count": 29,
   "id": "002ed565",
   "metadata": {},
   "outputs": [
    {
     "name": "stdout",
     "output_type": "stream",
     "text": [
      "1\n"
     ]
    }
   ],
   "source": [
    "a=10\n",
    "b=3\n",
    "print(a%b)"
   ]
  },
  {
   "cell_type": "raw",
   "id": "592f8377",
   "metadata": {},
   "source": [
    "# study about BODMAS Rule for arithmetic operations"
   ]
  },
  {
   "cell_type": "markdown",
   "id": "8ac4ce56",
   "metadata": {},
   "source": [
    "# Comparsion operator (<,>,<=,>=,!=,==)"
   ]
  },
  {
   "cell_type": "markdown",
   "id": "8a1b82ed",
   "metadata": {},
   "source": [
    "The output of comparsion operator is bool(True or False)"
   ]
  },
  {
   "cell_type": "code",
   "execution_count": 30,
   "id": "0e743455",
   "metadata": {},
   "outputs": [
    {
     "name": "stdout",
     "output_type": "stream",
     "text": [
      "False\n"
     ]
    }
   ],
   "source": [
    "a=25\n",
    "b=35\n",
    "print(a>b)"
   ]
  },
  {
   "cell_type": "code",
   "execution_count": 32,
   "id": "3590e284",
   "metadata": {},
   "outputs": [
    {
     "name": "stdout",
     "output_type": "stream",
     "text": [
      "True\n"
     ]
    }
   ],
   "source": [
    "print(a<b)"
   ]
  },
  {
   "cell_type": "code",
   "execution_count": 33,
   "id": "38e232d6",
   "metadata": {},
   "outputs": [
    {
     "name": "stdout",
     "output_type": "stream",
     "text": [
      "False\n"
     ]
    }
   ],
   "source": [
    "c=5\n",
    "e=8\n",
    "print(c>=e)"
   ]
  },
  {
   "cell_type": "code",
   "execution_count": 34,
   "id": "268962b0",
   "metadata": {},
   "outputs": [
    {
     "name": "stdout",
     "output_type": "stream",
     "text": [
      "True\n"
     ]
    }
   ],
   "source": [
    "d=7\n",
    "f=9\n",
    "print(d<=f)"
   ]
  },
  {
   "cell_type": "code",
   "execution_count": 35,
   "id": "faba1fdc",
   "metadata": {},
   "outputs": [
    {
     "name": "stdout",
     "output_type": "stream",
     "text": [
      "False\n"
     ]
    }
   ],
   "source": [
    "a=10\n",
    "b=10\n",
    "print(a!=b)"
   ]
  },
  {
   "cell_type": "code",
   "execution_count": 36,
   "id": "cd9d1547",
   "metadata": {},
   "outputs": [
    {
     "name": "stdout",
     "output_type": "stream",
     "text": [
      "True\n"
     ]
    }
   ],
   "source": [
    "print(a==b)"
   ]
  },
  {
   "cell_type": "markdown",
   "id": "980d46e8",
   "metadata": {},
   "source": [
    "# isalnum() --> This method checks if all the elements of a string are alphanumeric (a-z,A-Z and 0-9)"
   ]
  },
  {
   "cell_type": "code",
   "execution_count": 37,
   "id": "90c6f92e",
   "metadata": {},
   "outputs": [
    {
     "data": {
      "text/plain": [
       "True"
      ]
     },
     "execution_count": 37,
     "metadata": {},
     "output_type": "execute_result"
    }
   ],
   "source": [
    "string=\"abcd\"\n",
    "string.isalnum()"
   ]
  },
  {
   "cell_type": "code",
   "execution_count": 38,
   "id": "b2c11b54",
   "metadata": {},
   "outputs": [
    {
     "data": {
      "text/plain": [
       "True"
      ]
     },
     "execution_count": 38,
     "metadata": {},
     "output_type": "execute_result"
    }
   ],
   "source": [
    "s=\"abcd123\"\n",
    "s.isalnum()"
   ]
  },
  {
   "cell_type": "markdown",
   "id": "3fb8a78d",
   "metadata": {},
   "source": [
    "# isalpha() --> This method checks if all the elemens of a string are alphabatical (a-z and A-Z)"
   ]
  },
  {
   "cell_type": "code",
   "execution_count": 39,
   "id": "d2a481a3",
   "metadata": {},
   "outputs": [
    {
     "data": {
      "text/plain": [
       "True"
      ]
     },
     "execution_count": 39,
     "metadata": {},
     "output_type": "execute_result"
    }
   ],
   "source": [
    "string.isalpha()"
   ]
  },
  {
   "cell_type": "code",
   "execution_count": 40,
   "id": "beada5aa",
   "metadata": {},
   "outputs": [
    {
     "data": {
      "text/plain": [
       "False"
      ]
     },
     "execution_count": 40,
     "metadata": {},
     "output_type": "execute_result"
    }
   ],
   "source": [
    "s.isalpha()"
   ]
  },
  {
   "cell_type": "markdown",
   "id": "4cff3594",
   "metadata": {},
   "source": [
    "# isdigit() ---> This method checks if all the elements of a string are digits (0-9)"
   ]
  },
  {
   "cell_type": "code",
   "execution_count": 41,
   "id": "5863e793",
   "metadata": {},
   "outputs": [
    {
     "data": {
      "text/plain": [
       "True"
      ]
     },
     "execution_count": 41,
     "metadata": {},
     "output_type": "execute_result"
    }
   ],
   "source": [
    "a=\"1234\"\n",
    "a.isdigit()"
   ]
  },
  {
   "cell_type": "code",
   "execution_count": 42,
   "id": "089da63d",
   "metadata": {},
   "outputs": [
    {
     "data": {
      "text/plain": [
       "False"
      ]
     },
     "execution_count": 42,
     "metadata": {},
     "output_type": "execute_result"
    }
   ],
   "source": [
    "b=\"abc1233\"\n",
    "b.isdigit()"
   ]
  },
  {
   "cell_type": "markdown",
   "id": "6674c833",
   "metadata": {},
   "source": [
    "# Logical operators (AND,OR,NOT)"
   ]
  },
  {
   "cell_type": "markdown",
   "id": "eaa33224",
   "metadata": {},
   "source": [
    "# Logical operators are used to combined one or more conditions\n",
    "\n",
    "# AND ---> If all the inputs are true, the o/p true"
   ]
  },
  {
   "cell_type": "code",
   "execution_count": 43,
   "id": "4542cd26",
   "metadata": {},
   "outputs": [],
   "source": [
    "a=5\n",
    "b=2\n",
    "c=4"
   ]
  },
  {
   "cell_type": "code",
   "execution_count": 45,
   "id": "0a72fb5c",
   "metadata": {},
   "outputs": [
    {
     "name": "stdout",
     "output_type": "stream",
     "text": [
      "True\n"
     ]
    }
   ],
   "source": [
    "# example 1:\n",
    "\n",
    "print((a>b) and (a>c))"
   ]
  },
  {
   "cell_type": "code",
   "execution_count": 46,
   "id": "0b130b34",
   "metadata": {},
   "outputs": [
    {
     "name": "stdout",
     "output_type": "stream",
     "text": [
      "False\n"
     ]
    }
   ],
   "source": [
    "# example 2:\n",
    "\n",
    "print((b>a) and (b>c))"
   ]
  },
  {
   "cell_type": "code",
   "execution_count": 47,
   "id": "6debfc03",
   "metadata": {},
   "outputs": [
    {
     "name": "stdout",
     "output_type": "stream",
     "text": [
      "False\n"
     ]
    }
   ],
   "source": [
    "# example 3:\n",
    "\n",
    "print((c>a) and (c>b))"
   ]
  },
  {
   "cell_type": "markdown",
   "id": "04ed9ecb",
   "metadata": {},
   "source": [
    "# OR --> if any one of the operator is ture ,o/p is true\n",
    "\n",
    "# OR --> if all the i/p are false then the o/p is false"
   ]
  },
  {
   "cell_type": "code",
   "execution_count": 48,
   "id": "a356f307",
   "metadata": {},
   "outputs": [],
   "source": [
    "a=5\n",
    "b=2\n",
    "c=4"
   ]
  },
  {
   "cell_type": "code",
   "execution_count": 49,
   "id": "b2b889c9",
   "metadata": {},
   "outputs": [
    {
     "name": "stdout",
     "output_type": "stream",
     "text": [
      "True\n"
     ]
    }
   ],
   "source": [
    "# example 1:\n",
    "\n",
    "print((a>b) or (a>c))"
   ]
  },
  {
   "cell_type": "code",
   "execution_count": 50,
   "id": "b406734f",
   "metadata": {},
   "outputs": [
    {
     "name": "stdout",
     "output_type": "stream",
     "text": [
      "False\n"
     ]
    }
   ],
   "source": [
    "# example 2:\n",
    "\n",
    "print((b>a) or (b>c))"
   ]
  },
  {
   "cell_type": "code",
   "execution_count": 51,
   "id": "72d23434",
   "metadata": {},
   "outputs": [
    {
     "name": "stdout",
     "output_type": "stream",
     "text": [
      "True\n"
     ]
    }
   ],
   "source": [
    "# example 3:\n",
    "\n",
    "print((c>a) or (a>b))"
   ]
  },
  {
   "cell_type": "markdown",
   "id": "b33bc8ed",
   "metadata": {},
   "source": [
    "# NOT --> if the condition is true it gives the o/p as false and vise versa for false\n",
    "\n",
    "# not(true)---> false\n",
    "\n",
    "# not(false) ---> true"
   ]
  },
  {
   "cell_type": "code",
   "execution_count": 52,
   "id": "183a95bc",
   "metadata": {},
   "outputs": [],
   "source": [
    "a=5\n",
    "b=2"
   ]
  },
  {
   "cell_type": "code",
   "execution_count": 53,
   "id": "3512d17f",
   "metadata": {},
   "outputs": [
    {
     "name": "stdout",
     "output_type": "stream",
     "text": [
      "True\n"
     ]
    }
   ],
   "source": [
    "# Example 1:\n",
    "    \n",
    "print(not(a<b))"
   ]
  },
  {
   "cell_type": "code",
   "execution_count": 54,
   "id": "1a25b55c",
   "metadata": {},
   "outputs": [
    {
     "name": "stdout",
     "output_type": "stream",
     "text": [
      "False\n"
     ]
    }
   ],
   "source": [
    "# Example 2:\n",
    "\n",
    "print(not(a>b))"
   ]
  },
  {
   "cell_type": "markdown",
   "id": "04f35651",
   "metadata": {},
   "source": [
    "# Type Conversion"
   ]
  },
  {
   "cell_type": "code",
   "execution_count": 56,
   "id": "e9d665b8",
   "metadata": {},
   "outputs": [
    {
     "name": "stdout",
     "output_type": "stream",
     "text": [
      "5.0\n",
      "5\n",
      "True\n",
      "(5+0j)\n"
     ]
    }
   ],
   "source": [
    "a=5   # a is int type \n",
    "\n",
    "print(float(a))  # converting int value into float\n",
    "\n",
    "print(str(a))  # converting int value into string\n",
    "\n",
    "print(bool(a))  # converting int value into bool \n",
    "\n",
    "print(complex(a))  # converting int value into complex"
   ]
  },
  {
   "cell_type": "code",
   "execution_count": 57,
   "id": "3e552e88",
   "metadata": {},
   "outputs": [
    {
     "name": "stdout",
     "output_type": "stream",
     "text": [
      "10\n",
      "10.5\n",
      "True\n",
      "(10.5+0j)\n"
     ]
    }
   ],
   "source": [
    "b=10.5\n",
    "\n",
    "print(int(b)) # converting float value into int \n",
    "\n",
    "print(str(b)) # converting float value into string \n",
    "\n",
    "print(bool(b)) # converting float value into bool \n",
    "\n",
    "print(complex(b)) # converting float value into complex\n",
    "\n"
   ]
  },
  {
   "cell_type": "code",
   "execution_count": 60,
   "id": "5dffdbd2",
   "metadata": {},
   "outputs": [
    {
     "name": "stdout",
     "output_type": "stream",
     "text": [
      "(5+3j)\n",
      "True\n"
     ]
    },
    {
     "ename": "TypeError",
     "evalue": "int() argument must be a string, a bytes-like object or a real number, not 'complex'",
     "output_type": "error",
     "traceback": [
      "\u001b[1;31m---------------------------------------------------------------------------\u001b[0m",
      "\u001b[1;31mTypeError\u001b[0m                                 Traceback (most recent call last)",
      "Cell \u001b[1;32mIn[60], line 7\u001b[0m\n\u001b[0;32m      3\u001b[0m \u001b[38;5;28mprint\u001b[39m(\u001b[38;5;28mstr\u001b[39m(c))\n\u001b[0;32m      5\u001b[0m \u001b[38;5;28mprint\u001b[39m(\u001b[38;5;28mbool\u001b[39m(c))\n\u001b[1;32m----> 7\u001b[0m \u001b[38;5;28mprint\u001b[39m(\u001b[38;5;28mint\u001b[39m(c))\n\u001b[0;32m      9\u001b[0m \u001b[38;5;28mprint\u001b[39m(\u001b[38;5;28mfloat\u001b[39m(c))\n",
      "\u001b[1;31mTypeError\u001b[0m: int() argument must be a string, a bytes-like object or a real number, not 'complex'"
     ]
    }
   ],
   "source": [
    "c=5+3j\n",
    "\n",
    "print(str(c))  # converting complex value into str\n",
    "\n",
    "print(bool(c))  # converting complex into bool\n",
    "\n",
    "print(int(c))   # not possible to convert complex into int\n",
    "\n",
    "print(float(c)) # not possible to convert complex into float\n"
   ]
  },
  {
   "cell_type": "code",
   "execution_count": 61,
   "id": "933dc12c",
   "metadata": {},
   "outputs": [
    {
     "name": "stdout",
     "output_type": "stream",
     "text": [
      "1\n",
      "1.0\n",
      "(1+0j)\n",
      "True\n"
     ]
    }
   ],
   "source": [
    "t=True\n",
    "\n",
    "print(int(t))  # when u convert bool of True into int it gives o/p as 1\n",
    "\n",
    "print(float(t)) #  when u convert bool of True into float it gives o/p as 1.0\n",
    "\n",
    "print(complex(t)) # converting bool into complex  \n",
    "\n",
    "print(str(t))     # converting bool into string"
   ]
  },
  {
   "cell_type": "code",
   "execution_count": 62,
   "id": "dab869d8",
   "metadata": {},
   "outputs": [
    {
     "name": "stdout",
     "output_type": "stream",
     "text": [
      "0\n",
      "0.0\n",
      "0j\n",
      "False\n"
     ]
    }
   ],
   "source": [
    "f=False\n",
    "\n",
    "print(int(f))  # when u convert bool of False into int it gives o/p as 0\n",
    "\n",
    "print(float(f)) #  when u convert bool of False into float it gives o/p as 0.0\n",
    "\n",
    "print(complex(f)) # converting bool into complex  \n",
    "\n",
    "print(str(f))     # converting bool into string"
   ]
  },
  {
   "cell_type": "code",
   "execution_count": 63,
   "id": "73d6f4fa",
   "metadata": {},
   "outputs": [
    {
     "ename": "ValueError",
     "evalue": "invalid literal for int() with base 10: 'Examroom'",
     "output_type": "error",
     "traceback": [
      "\u001b[1;31m---------------------------------------------------------------------------\u001b[0m",
      "\u001b[1;31mValueError\u001b[0m                                Traceback (most recent call last)",
      "Cell \u001b[1;32mIn[63], line 3\u001b[0m\n\u001b[0;32m      1\u001b[0m a\u001b[38;5;241m=\u001b[39m\u001b[38;5;124m\"\u001b[39m\u001b[38;5;124mExamroom\u001b[39m\u001b[38;5;124m\"\u001b[39m\n\u001b[1;32m----> 3\u001b[0m \u001b[38;5;28mprint\u001b[39m(\u001b[38;5;28mint\u001b[39m(a))\n\u001b[0;32m      5\u001b[0m \u001b[38;5;28mprint\u001b[39m(\u001b[38;5;28mfloat\u001b[39m(a))\n\u001b[0;32m      7\u001b[0m \u001b[38;5;28mprint\u001b[39m(\u001b[38;5;28mcomplex\u001b[39m(a))\n",
      "\u001b[1;31mValueError\u001b[0m: invalid literal for int() with base 10: 'Examroom'"
     ]
    }
   ],
   "source": [
    "a=\"Examroom\"\n",
    "\n",
    "print(int(a))\n",
    "\n",
    "print(float(a))\n",
    "\n",
    "print(complex(a))"
   ]
  },
  {
   "cell_type": "markdown",
   "id": "a736649b",
   "metadata": {},
   "source": [
    "Note: if a string in alphabatical or alphanumerical cant't convert it into --> int,float,complex"
   ]
  },
  {
   "cell_type": "code",
   "execution_count": 64,
   "id": "dd255490",
   "metadata": {},
   "outputs": [
    {
     "name": "stdout",
     "output_type": "stream",
     "text": [
      "True\n",
      "False\n"
     ]
    }
   ],
   "source": [
    "a=\"examroom123\"\n",
    "b=\"\"\n",
    "\n",
    "print(bool(a))\n",
    "\n",
    "print(bool(b))"
   ]
  },
  {
   "cell_type": "markdown",
   "id": "eb71a421",
   "metadata": {},
   "source": [
    "Note: if a string is empty then the bool value is false"
   ]
  },
  {
   "cell_type": "code",
   "execution_count": 65,
   "id": "10c4f4a2",
   "metadata": {},
   "outputs": [
    {
     "name": "stdout",
     "output_type": "stream",
     "text": [
      "123\n",
      "123.0\n",
      "(123+0j)\n",
      "True\n"
     ]
    }
   ],
   "source": [
    "# Numerical String\n",
    "\n",
    "a=\"123\"\n",
    "\n",
    "print(int(a))\n",
    "\n",
    "print(float(a))\n",
    "\n",
    "print(complex(a))\n",
    "\n",
    "print(bool(a))      # when the string of elements are numerical can convert into any data type"
   ]
  },
  {
   "cell_type": "markdown",
   "id": "3a9b89c0",
   "metadata": {},
   "source": [
    "# String Indexing and Slicing"
   ]
  },
  {
   "cell_type": "code",
   "execution_count": 66,
   "id": "871fa2fd",
   "metadata": {},
   "outputs": [],
   "source": [
    "name=\"examroom\""
   ]
  },
  {
   "cell_type": "code",
   "execution_count": null,
   "id": "5100ef16",
   "metadata": {},
   "outputs": [],
   "source": [
    "Note:\n",
    "    \n",
    "In python the index value of string starts from 0\n",
    "\n",
    "index_value ---- name_of_the_alphabtes\n",
    "\n",
    "0   ----> e\n",
    "1  -----> x\n",
    "2  -----> a\n",
    "3  -----> m\n",
    "4  -----> r\n",
    "5   ----> o\n",
    "6  -----> o\n",
    "7  -----> m"
   ]
  },
  {
   "cell_type": "markdown",
   "id": "3bd60e51",
   "metadata": {},
   "source": [
    "indexing:\n",
    "\n",
    "Syntax : name[index_value]"
   ]
  },
  {
   "cell_type": "code",
   "execution_count": 67,
   "id": "be1614e0",
   "metadata": {},
   "outputs": [
    {
     "data": {
      "text/plain": [
       "'x'"
      ]
     },
     "execution_count": 67,
     "metadata": {},
     "output_type": "execute_result"
    }
   ],
   "source": [
    "# example 1: featch  x alphabet from the name\n",
    "\n",
    "name[1]"
   ]
  },
  {
   "cell_type": "code",
   "execution_count": 68,
   "id": "dff0f70e",
   "metadata": {},
   "outputs": [
    {
     "data": {
      "text/plain": [
       "'m'"
      ]
     },
     "execution_count": 68,
     "metadata": {},
     "output_type": "execute_result"
    }
   ],
   "source": [
    "# example 2: featch m alphabets from the name\n",
    "\n",
    "name[3]"
   ]
  },
  {
   "cell_type": "markdown",
   "id": "5e79be69",
   "metadata": {},
   "source": [
    "# String Slicing\n",
    "\n",
    "\n",
    "syntax: name[start:end:step]\n",
    "\n",
    "Syntax: name[start_index_value:end_index_value:step_size]"
   ]
  },
  {
   "cell_type": "code",
   "execution_count": 74,
   "id": "dbf101bf",
   "metadata": {},
   "outputs": [
    {
     "data": {
      "text/plain": [
       "'examroom'"
      ]
     },
     "execution_count": 74,
     "metadata": {},
     "output_type": "execute_result"
    }
   ],
   "source": [
    "name[::1]"
   ]
  },
  {
   "cell_type": "code",
   "execution_count": 72,
   "id": "a7042f07",
   "metadata": {},
   "outputs": [
    {
     "data": {
      "text/plain": [
       "'exam'"
      ]
     },
     "execution_count": 72,
     "metadata": {},
     "output_type": "execute_result"
    }
   ],
   "source": [
    "name[0:4:1]"
   ]
  },
  {
   "cell_type": "code",
   "execution_count": 73,
   "id": "4bbf2af9",
   "metadata": {},
   "outputs": [
    {
     "data": {
      "text/plain": [
       "'earo'"
      ]
     },
     "execution_count": 73,
     "metadata": {},
     "output_type": "execute_result"
    }
   ],
   "source": [
    "name[0::2]  # step size is 2"
   ]
  },
  {
   "cell_type": "markdown",
   "id": "aa7f3662",
   "metadata": {},
   "source": [
    "# Note:\n",
    "    \n",
    "1. step can be +ve and -ve\n",
    "\n",
    "2. for +ve step value slicing happens from left to right\n",
    "\n",
    "3. for -ve step value slicing happens from right to left\n",
    "\n",
    "4. +ve step always (stop > start)  name[start:end:step]\n",
    "\n",
    "5. -ve step always (start > stop)  name[start:end:step]"
   ]
  },
  {
   "cell_type": "code",
   "execution_count": 75,
   "id": "188f65d7",
   "metadata": {},
   "outputs": [
    {
     "data": {
      "text/plain": [
       "'examroom'"
      ]
     },
     "execution_count": 75,
     "metadata": {},
     "output_type": "execute_result"
    }
   ],
   "source": [
    "# +ve slicing\n",
    "\n",
    "name[::1]   # By default for +ve slicing the start_index is 0 and the end_index is length of the string"
   ]
  },
  {
   "cell_type": "code",
   "execution_count": 76,
   "id": "7fb5689b",
   "metadata": {},
   "outputs": [
    {
     "data": {
      "text/plain": [
       "'moormaxe'"
      ]
     },
     "execution_count": 76,
     "metadata": {},
     "output_type": "execute_result"
    }
   ],
   "source": [
    "# -ve slicing\n",
    "\n",
    "name[::-1]"
   ]
  },
  {
   "cell_type": "code",
   "execution_count": 77,
   "id": "ceee5eb1",
   "metadata": {},
   "outputs": [
    {
     "data": {
      "text/plain": [
       "'exam'"
      ]
     },
     "execution_count": 77,
     "metadata": {},
     "output_type": "execute_result"
    }
   ],
   "source": [
    "name[0:4]  # here the start_index < stop_index for +ve slicing\n",
    "\n",
    "# end index is 4 (in slicing index 4 or index 4 value  will be excluded )"
   ]
  },
  {
   "cell_type": "code",
   "execution_count": 78,
   "id": "9471e99c",
   "metadata": {},
   "outputs": [
    {
     "data": {
      "text/plain": [
       "'rmax'"
      ]
     },
     "execution_count": 78,
     "metadata": {},
     "output_type": "execute_result"
    }
   ],
   "source": [
    "name[4:0:-1]  # in -ve slicing  start_index > stop_index value\n",
    "\n",
    "# 0 index value is exculded "
   ]
  },
  {
   "cell_type": "markdown",
   "id": "fc28a582",
   "metadata": {},
   "source": [
    "# Note:\n",
    "\n",
    "1. for reverse slicing step size will always -ve \n",
    "\n",
    "2. index value start from -1 t0 -len(string)"
   ]
  },
  {
   "cell_type": "code",
   "execution_count": 79,
   "id": "66b46e08",
   "metadata": {},
   "outputs": [
    {
     "data": {
      "text/plain": [
       "'moormaxe'"
      ]
     },
     "execution_count": 79,
     "metadata": {},
     "output_type": "execute_result"
    }
   ],
   "source": [
    "name[::-1] # By default for -ve slicing the start_index is -1 and the end_index is -(length of the string)"
   ]
  },
  {
   "cell_type": "code",
   "execution_count": 80,
   "id": "abd51284",
   "metadata": {},
   "outputs": [
    {
     "data": {
      "text/plain": [
       "'moormaxe'"
      ]
     },
     "execution_count": 80,
     "metadata": {},
     "output_type": "execute_result"
    }
   ],
   "source": [
    "name[-1::-1]"
   ]
  },
  {
   "cell_type": "code",
   "execution_count": 81,
   "id": "2caf8611",
   "metadata": {},
   "outputs": [
    {
     "data": {
      "text/plain": [
       "'moor'"
      ]
     },
     "execution_count": 81,
     "metadata": {},
     "output_type": "execute_result"
    }
   ],
   "source": [
    "name[-1:-5:-1]"
   ]
  },
  {
   "cell_type": "code",
   "execution_count": 82,
   "id": "2447f431",
   "metadata": {},
   "outputs": [
    {
     "data": {
      "text/plain": [
       "'momx'"
      ]
     },
     "execution_count": 82,
     "metadata": {},
     "output_type": "execute_result"
    }
   ],
   "source": [
    "name[::-2]  "
   ]
  },
  {
   "cell_type": "markdown",
   "id": "c4de80fb",
   "metadata": {},
   "source": [
    "# Note:\n",
    "\n",
    "In slicing space will also have index value"
   ]
  },
  {
   "cell_type": "markdown",
   "id": "34202592",
   "metadata": {},
   "source": [
    "# Different ways of printing"
   ]
  },
  {
   "cell_type": "markdown",
   "id": "881e0f24",
   "metadata": {},
   "source": [
    "Int --->         %d\n",
    "\n",
    "Float --->       %f\n",
    "\n",
    "String -->       %s\n",
    "\n",
    "character-->     %c"
   ]
  },
  {
   "cell_type": "markdown",
   "id": "b6a4d4b8",
   "metadata": {},
   "source": [
    "# syntax : print(\"format specifier\"%(varaible))"
   ]
  },
  {
   "cell_type": "code",
   "execution_count": 5,
   "id": "f5da2836",
   "metadata": {},
   "outputs": [
    {
     "name": "stdout",
     "output_type": "stream",
     "text": [
      "10\n",
      "value of a is 10\n"
     ]
    }
   ],
   "source": [
    "# Example for int\n",
    "\n",
    "a=10.0\n",
    "print(\"%d\"%(a))\n",
    "print(\"value of a is %d\"%(a))"
   ]
  },
  {
   "cell_type": "code",
   "execution_count": 86,
   "id": "22de8ae9",
   "metadata": {},
   "outputs": [
    {
     "name": "stdout",
     "output_type": "stream",
     "text": [
      "15.000000\n",
      "The value a is 15.000000\n"
     ]
    }
   ],
   "source": [
    "# Example for float\n",
    "\n",
    "a=15\n",
    "print(\"%f\"%(a))\n",
    "print(\"The value a is %f\"%(a))   # By default these float value give 6 decimal points"
   ]
  },
  {
   "cell_type": "code",
   "execution_count": 13,
   "id": "f1edd2de",
   "metadata": {},
   "outputs": [
    {
     "name": "stdout",
     "output_type": "stream",
     "text": [
      "16.00\n",
      "The value of a is 16.00\n"
     ]
    }
   ],
   "source": [
    "# Example to contorl the decimal points in float\n",
    "\n",
    "# syntax:  print(\"%.(no_of_decimal_points)f\"%(variable))\n",
    "\n",
    "a=16\n",
    "print(\"%.2f\"%(a))\n",
    "print(\"The value of a is %.2f\"%(a))  "
   ]
  },
  {
   "cell_type": "code",
   "execution_count": 11,
   "id": "29214e21",
   "metadata": {},
   "outputs": [
    {
     "name": "stdout",
     "output_type": "stream",
     "text": [
      "hello\n",
      "The given string is hello\n"
     ]
    },
    {
     "ename": "TypeError",
     "evalue": "not all arguments converted during string formatting",
     "output_type": "error",
     "traceback": [
      "\u001b[1;31m---------------------------------------------------------------------------\u001b[0m",
      "\u001b[1;31mTypeError\u001b[0m                                 Traceback (most recent call last)",
      "Cell \u001b[1;32mIn[11], line 8\u001b[0m\n\u001b[0;32m      5\u001b[0m \u001b[38;5;28mprint\u001b[39m(\u001b[38;5;124m\"\u001b[39m\u001b[38;5;132;01m%s\u001b[39;00m\u001b[38;5;124m\"\u001b[39m\u001b[38;5;241m%\u001b[39m(a))\n\u001b[0;32m      6\u001b[0m \u001b[38;5;28mprint\u001b[39m(\u001b[38;5;124m\"\u001b[39m\u001b[38;5;124mThe given string is \u001b[39m\u001b[38;5;132;01m%s\u001b[39;00m\u001b[38;5;124m\"\u001b[39m\u001b[38;5;241m%\u001b[39m(a))\n\u001b[1;32m----> 8\u001b[0m \u001b[38;5;28mprint\u001b[39m(\u001b[38;5;124;43m\"\u001b[39;49m\u001b[38;5;124;43m\"\u001b[39;49m\u001b[38;5;241;43m%\u001b[39;49m\u001b[43m(\u001b[49m\u001b[43ma\u001b[49m\u001b[43m)\u001b[49m)\n",
      "\u001b[1;31mTypeError\u001b[0m: not all arguments converted during string formatting"
     ]
    }
   ],
   "source": [
    "# Example for string\n",
    "\n",
    "a=\"hello\"\n",
    "\n",
    "print(\"%s\"%(a))\n",
    "print(\"The given string is %s\"%(a))\n",
    "\n",
    "print(\"%(a))  # if u are not giving which dtype u are printing u will get error"
   ]
  },
  {
   "cell_type": "markdown",
   "id": "f40fc7b3",
   "metadata": {},
   "source": [
    "# Format Function"
   ]
  },
  {
   "cell_type": "markdown",
   "id": "28aa324a",
   "metadata": {},
   "source": [
    "Syntax: print(\"{}\".format(varaibles))"
   ]
  },
  {
   "cell_type": "code",
   "execution_count": 95,
   "id": "e079052b",
   "metadata": {},
   "outputs": [
    {
     "name": "stdout",
     "output_type": "stream",
     "text": [
      "10\n",
      "the value of a is 10\n"
     ]
    }
   ],
   "source": [
    "a=10\n",
    "print(\"{}\".format(a))\n",
    "print(\"the value of a is {}\".format(a))"
   ]
  },
  {
   "cell_type": "code",
   "execution_count": 15,
   "id": "fabd970a",
   "metadata": {},
   "outputs": [
    {
     "name": "stdout",
     "output_type": "stream",
     "text": [
      " 10 15\n",
      "the value of a is 10 and the value of b is 15\n"
     ]
    }
   ],
   "source": [
    "a=10\n",
    "b=15\n",
    "\n",
    "print(\" {} {}\".format(a,b))\n",
    "\n",
    "print(\"the value of a is {} and the value of b is {}\".format(a,b)) \n",
    "\n",
    "# by default a will take first poisition and b will take second position"
   ]
  },
  {
   "cell_type": "code",
   "execution_count": 99,
   "id": "44d8c7b1",
   "metadata": {},
   "outputs": [
    {
     "name": "stdout",
     "output_type": "stream",
     "text": [
      " b 30 a 20\n"
     ]
    }
   ],
   "source": [
    "a=20\n",
    "b=30\n",
    "\n",
    "print(\" b {1} a {0}\".format(a,b))\n",
    "\n",
    "# here a has index value of 0 and b has index value of 1"
   ]
  },
  {
   "cell_type": "code",
   "execution_count": 2,
   "id": "b0b4ff31",
   "metadata": {},
   "outputs": [
    {
     "name": "stdout",
     "output_type": "stream",
     "text": [
      " b 30 a 20\n"
     ]
    }
   ],
   "source": [
    "a=20\n",
    "b=30\n",
    "\n",
    "print(\" b {} a {}\".format(b,a))\n",
    "\n",
    "# here a has index value of 0 and b has index value of 1"
   ]
  },
  {
   "cell_type": "code",
   "execution_count": 100,
   "id": "dd11af11",
   "metadata": {},
   "outputs": [
    {
     "name": "stdout",
     "output_type": "stream",
     "text": [
      "40 20 30\n"
     ]
    }
   ],
   "source": [
    "a=20\n",
    "b=30 \n",
    "c=40\n",
    "\n",
    "print(\"{2} {0} {1}\".format(a,b,c))"
   ]
  },
  {
   "cell_type": "code",
   "execution_count": 103,
   "id": "484a4df7",
   "metadata": {},
   "outputs": [
    {
     "name": "stdout",
     "output_type": "stream",
     "text": [
      "35 25 45\n"
     ]
    }
   ],
   "source": [
    "a=25\n",
    "b=35\n",
    "c=45\n",
    "\n",
    "print(\"{b1} {a1} {c1}\".format(a1=a,b1=b,c1=c))\n",
    "\n",
    "# u need to assign the values "
   ]
  },
  {
   "cell_type": "markdown",
   "id": "29871386",
   "metadata": {},
   "source": [
    " How to change the int values into float values?"
   ]
  },
  {
   "cell_type": "raw",
   "id": "a5824fa2",
   "metadata": {},
   "source": [
    "Syntax: print(\"{:f}\".format(varaible))"
   ]
  },
  {
   "cell_type": "code",
   "execution_count": 106,
   "id": "9ac319df",
   "metadata": {},
   "outputs": [
    {
     "name": "stdout",
     "output_type": "stream",
     "text": [
      "10.000000\n"
     ]
    }
   ],
   "source": [
    "a=10\n",
    "print(\"{:f}\".format(a))  # by default 6 decimal points"
   ]
  },
  {
   "cell_type": "code",
   "execution_count": 107,
   "id": "dc3bdee9",
   "metadata": {},
   "outputs": [],
   "source": [
    "# control the decimal points"
   ]
  },
  {
   "cell_type": "raw",
   "id": "b4746d66",
   "metadata": {},
   "source": [
    "Syntax: print(\"{:.1f}\".format(varaible))"
   ]
  },
  {
   "cell_type": "code",
   "execution_count": 4,
   "id": "7c030d3d",
   "metadata": {},
   "outputs": [
    {
     "name": "stdout",
     "output_type": "stream",
     "text": [
      "10.0\n"
     ]
    }
   ],
   "source": [
    "a=10\n",
    "print(\"{:.1f}\".format(a))"
   ]
  },
  {
   "cell_type": "code",
   "execution_count": 109,
   "id": "65faf36b",
   "metadata": {},
   "outputs": [
    {
     "name": "stdout",
     "output_type": "stream",
     "text": [
      "10.0 20.00 30.000\n"
     ]
    }
   ],
   "source": [
    "a=10\n",
    "b=20\n",
    "c=30\n",
    "print(\"{:.1f} {:.2f} {:.3f}\".format(a,b,c))"
   ]
  },
  {
   "cell_type": "code",
   "execution_count": 110,
   "id": "4e25a2b5",
   "metadata": {},
   "outputs": [
    {
     "name": "stdout",
     "output_type": "stream",
     "text": [
      "25.00 15.0 35.000\n"
     ]
    }
   ],
   "source": [
    "a=15\n",
    "b=25\n",
    "c=35\n",
    "print(\"{1:.2f} {0:.1f} {2:.3f}\".format(a,b,c))"
   ]
  },
  {
   "cell_type": "markdown",
   "id": "86d85b20",
   "metadata": {},
   "source": [
    "# User Input"
   ]
  },
  {
   "cell_type": "code",
   "execution_count": 112,
   "id": "ddfa3fef",
   "metadata": {},
   "outputs": [
    {
     "name": "stdout",
     "output_type": "stream",
     "text": [
      "string: hello\n",
      "hello\n",
      "<class 'str'>\n"
     ]
    }
   ],
   "source": [
    "string=input(\"string: \")\n",
    "print(a)\n",
    "print(type(a))"
   ]
  },
  {
   "cell_type": "code",
   "execution_count": 113,
   "id": "58264a2b",
   "metadata": {},
   "outputs": [
    {
     "name": "stdout",
     "output_type": "stream",
     "text": [
      "integer: 10\n",
      "10\n",
      "<class 'str'>\n"
     ]
    }
   ],
   "source": [
    "a=input(\"integer: \")\n",
    "print(a)\n",
    "print(type(a))    # By default input user gives string dtype if it's a number also"
   ]
  },
  {
   "cell_type": "markdown",
   "id": "4de6dce7",
   "metadata": {},
   "source": [
    "How to change the data type when we are giving the number through Input user"
   ]
  },
  {
   "cell_type": "code",
   "execution_count": 114,
   "id": "2a8a12a9",
   "metadata": {},
   "outputs": [
    {
     "name": "stdout",
     "output_type": "stream",
     "text": [
      "number: 10\n",
      "10\n",
      "<class 'int'>\n"
     ]
    }
   ],
   "source": [
    "# Integer class\n",
    "\n",
    "a=int(input(\"number: \"))\n",
    "print(a)\n",
    "print(type(a))    # give dtype befor the input user"
   ]
  },
  {
   "cell_type": "code",
   "execution_count": 115,
   "id": "fbe2bf13",
   "metadata": {},
   "outputs": [
    {
     "name": "stdout",
     "output_type": "stream",
     "text": [
      "10\n",
      "10.0\n",
      "<class 'float'>\n"
     ]
    }
   ],
   "source": [
    "# float class\n",
    "\n",
    "a=float(input())\n",
    "print(a)\n",
    "print(type(a))"
   ]
  },
  {
   "cell_type": "code",
   "execution_count": 116,
   "id": "ac0d4e96",
   "metadata": {},
   "outputs": [
    {
     "name": "stdout",
     "output_type": "stream",
     "text": [
      "10\n",
      "10\n",
      "<class 'str'>\n"
     ]
    }
   ],
   "source": [
    "# String class\n",
    "\n",
    "a=str(input())\n",
    "print(a)\n",
    "print(type(a))"
   ]
  },
  {
   "cell_type": "code",
   "execution_count": null,
   "id": "49cfdec2",
   "metadata": {},
   "outputs": [],
   "source": []
  }
 ],
 "metadata": {
  "kernelspec": {
   "display_name": "Python 3 (ipykernel)",
   "language": "python",
   "name": "python3"
  },
  "language_info": {
   "codemirror_mode": {
    "name": "ipython",
    "version": 3
   },
   "file_extension": ".py",
   "mimetype": "text/x-python",
   "name": "python",
   "nbconvert_exporter": "python",
   "pygments_lexer": "ipython3",
   "version": "3.10.9"
  }
 },
 "nbformat": 4,
 "nbformat_minor": 5
}
