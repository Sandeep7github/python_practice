{
 "cells": [
  {
   "cell_type": "markdown",
   "id": "b8bd8222",
   "metadata": {},
   "source": [
    "# start python "
   ]
  },
  {
   "cell_type": "raw",
   "id": "2b914cef",
   "metadata": {},
   "source": [
    "5  this my code"
   ]
  },
  {
   "cell_type": "code",
   "execution_count": 7,
   "id": "37211222",
   "metadata": {},
   "outputs": [
    {
     "data": {
      "text/plain": [
       "10"
      ]
     },
     "execution_count": 7,
     "metadata": {},
     "output_type": "execute_result"
    }
   ],
   "source": [
    "10 "
   ]
  },
  {
   "cell_type": "code",
   "execution_count": 10,
   "id": "4e521bd5",
   "metadata": {},
   "outputs": [
    {
     "data": {
      "text/plain": [
       "'hello'"
      ]
     },
     "execution_count": 10,
     "metadata": {},
     "output_type": "execute_result"
    }
   ],
   "source": [
    "'hello'"
   ]
  },
  {
   "cell_type": "code",
   "execution_count": 13,
   "id": "eec1a8ca",
   "metadata": {},
   "outputs": [
    {
     "data": {
      "text/plain": [
       "5"
      ]
     },
     "execution_count": 13,
     "metadata": {},
     "output_type": "execute_result"
    }
   ],
   "source": [
    "\"\"\"\n",
    "this is my comment\n",
    "\"\"\"\n",
    "# this comnment\n",
    "5 "
   ]
  },
  {
   "cell_type": "code",
   "execution_count": 14,
   "id": "f74f81b1",
   "metadata": {},
   "outputs": [
    {
     "data": {
      "text/plain": [
       "' string '"
      ]
     },
     "execution_count": 14,
     "metadata": {},
     "output_type": "execute_result"
    }
   ],
   "source": [
    "''' string '''"
   ]
  },
  {
   "cell_type": "code",
   "execution_count": 16,
   "id": "919ae3b7",
   "metadata": {},
   "outputs": [
    {
     "data": {
      "text/plain": [
       "5"
      ]
     },
     "execution_count": 16,
     "metadata": {},
     "output_type": "execute_result"
    }
   ],
   "source": [
    "5"
   ]
  },
  {
   "cell_type": "code",
   "execution_count": 15,
   "id": "3f1d1372",
   "metadata": {},
   "outputs": [
    {
     "name": "stdout",
     "output_type": "stream",
     "text": [
      "5\n"
     ]
    }
   ],
   "source": [
    "print(5)"
   ]
  },
  {
   "cell_type": "code",
   "execution_count": 17,
   "id": "17b53ffe",
   "metadata": {},
   "outputs": [
    {
     "data": {
      "text/plain": [
       "'hello'"
      ]
     },
     "execution_count": 17,
     "metadata": {},
     "output_type": "execute_result"
    }
   ],
   "source": [
    "\"hello\""
   ]
  },
  {
   "cell_type": "code",
   "execution_count": 19,
   "id": "e4fd47a4",
   "metadata": {},
   "outputs": [
    {
     "name": "stdout",
     "output_type": "stream",
     "text": [
      "hello\n"
     ]
    }
   ],
   "source": [
    "print(\"hello\")"
   ]
  },
  {
   "cell_type": "code",
   "execution_count": 20,
   "id": "2aa636f3",
   "metadata": {},
   "outputs": [
    {
     "name": "stdout",
     "output_type": "stream",
     "text": [
      " welcome to world\n"
     ]
    }
   ],
   "source": [
    "print(\" welcome to world\")"
   ]
  },
  {
   "cell_type": "code",
   "execution_count": 21,
   "id": "770ed5b2",
   "metadata": {},
   "outputs": [
    {
     "name": "stdout",
     "output_type": "stream",
     "text": [
      "welcome to world\n"
     ]
    }
   ],
   "source": [
    "print('welcome to world')"
   ]
  },
  {
   "cell_type": "code",
   "execution_count": 22,
   "id": "62f5bc7d",
   "metadata": {},
   "outputs": [
    {
     "name": "stdout",
     "output_type": "stream",
     "text": [
      "welcome to world\n"
     ]
    }
   ],
   "source": [
    "print('''welcome to world''')"
   ]
  },
  {
   "cell_type": "code",
   "execution_count": 24,
   "id": "94ebfe8a",
   "metadata": {},
   "outputs": [
    {
     "data": {
      "text/plain": [
       "\"isin't\""
      ]
     },
     "execution_count": 24,
     "metadata": {},
     "output_type": "execute_result"
    }
   ],
   "source": [
    "\"isin't\""
   ]
  },
  {
   "cell_type": "code",
   "execution_count": 69,
   "id": "ff9eebad",
   "metadata": {},
   "outputs": [
    {
     "data": {
      "text/plain": [
       "\"i haven't 'world'\""
      ]
     },
     "execution_count": 69,
     "metadata": {},
     "output_type": "execute_result"
    }
   ],
   "source": [
    "\"i haven't \\'world\\'\""
   ]
  },
  {
   "cell_type": "code",
   "execution_count": 34,
   "id": "17a9007e",
   "metadata": {},
   "outputs": [],
   "source": [
    "# data types\n"
   ]
  },
  {
   "cell_type": "code",
   "execution_count": 45,
   "id": "d95f5c8b",
   "metadata": {},
   "outputs": [
    {
     "name": "stdout",
     "output_type": "stream",
     "text": [
      "5\n"
     ]
    }
   ],
   "source": [
    "#variables\n",
    "a=5\n",
    "b=3\n",
    "print(a)"
   ]
  },
  {
   "cell_type": "code",
   "execution_count": 36,
   "id": "25e48c0a",
   "metadata": {},
   "outputs": [
    {
     "name": "stdout",
     "output_type": "stream",
     "text": [
      "3\n"
     ]
    }
   ],
   "source": [
    "a=5\n",
    "a=3\n",
    "print(a)"
   ]
  },
  {
   "cell_type": "code",
   "execution_count": 46,
   "id": "53d81994",
   "metadata": {},
   "outputs": [
    {
     "name": "stdout",
     "output_type": "stream",
     "text": [
      "5\n"
     ]
    }
   ],
   "source": [
    "name22y=5\n",
    "print(name22y)"
   ]
  },
  {
   "cell_type": "code",
   "execution_count": 47,
   "id": "773b45f7",
   "metadata": {},
   "outputs": [
    {
     "name": "stdout",
     "output_type": "stream",
     "text": [
      "6\n"
     ]
    }
   ],
   "source": [
    "_gani=6\n",
    "print(_gani)"
   ]
  },
  {
   "cell_type": "code",
   "execution_count": 56,
   "id": "c58b98d7",
   "metadata": {},
   "outputs": [
    {
     "name": "stdout",
     "output_type": "stream",
     "text": [
      "5\n",
      "6\n",
      "7\n"
     ]
    }
   ],
   "source": [
    "a=5\n",
    "b=6\n",
    "c=7\n",
    "print(a)\n",
    "print(b)\n",
    "print(c)"
   ]
  },
  {
   "cell_type": "code",
   "execution_count": 57,
   "id": "19eabfe6",
   "metadata": {},
   "outputs": [
    {
     "name": "stdout",
     "output_type": "stream",
     "text": [
      "5\n",
      "6\n",
      "7\n"
     ]
    }
   ],
   "source": [
    "a,b,c=5,6,7\n",
    "print(a)\n",
    "print(b)\n",
    "print(c)"
   ]
  },
  {
   "cell_type": "code",
   "execution_count": 58,
   "id": "b512f22f",
   "metadata": {},
   "outputs": [
    {
     "name": "stdout",
     "output_type": "stream",
     "text": [
      "5 6 7\n"
     ]
    }
   ],
   "source": [
    "# commo sperater\n",
    "a,b,c=5,6,7\n",
    "print(a,b,c)"
   ]
  },
  {
   "cell_type": "code",
   "execution_count": 62,
   "id": "c9c71abc",
   "metadata": {},
   "outputs": [
    {
     "name": "stdout",
     "output_type": "stream",
     "text": [
      "a: 10\n",
      "b: 10\n",
      "c: 10\n"
     ]
    }
   ],
   "source": [
    "a=b=c=10\n",
    "print('a:',a)\n",
    "print('b:',b)\n",
    "print('c:',c)"
   ]
  },
  {
   "cell_type": "code",
   "execution_count": 60,
   "id": "6460259d",
   "metadata": {},
   "outputs": [
    {
     "name": "stdout",
     "output_type": "stream",
     "text": [
      "10\n"
     ]
    }
   ],
   "source": [
    "print(a)"
   ]
  },
  {
   "cell_type": "code",
   "execution_count": 80,
   "id": "d733ccaf",
   "metadata": {},
   "outputs": [
    {
     "name": "stdout",
     "output_type": "stream",
     "text": [
      "sandeep @ manoj\n"
     ]
    }
   ],
   "source": [
    "name1=\"sandeep\"\n",
    "name2=\"manoj\"\n",
    "print(name1,\"@\",name2)"
   ]
  },
  {
   "cell_type": "code",
   "execution_count": 83,
   "id": "33e9b121",
   "metadata": {},
   "outputs": [
    {
     "name": "stdout",
     "output_type": "stream",
     "text": [
      "sandeep@manoj\n"
     ]
    }
   ],
   "source": [
    "name1=\"sandeep\"\n",
    "name2=\"manoj\"\n",
    "print(name1,name2,sep=\"@\")"
   ]
  },
  {
   "cell_type": "code",
   "execution_count": 84,
   "id": "e9f93ecf",
   "metadata": {},
   "outputs": [
    {
     "data": {
      "text/plain": [
       "'sandeepmanoj'"
      ]
     },
     "execution_count": 84,
     "metadata": {},
     "output_type": "execute_result"
    }
   ],
   "source": [
    "name1+name2"
   ]
  },
  {
   "cell_type": "code",
   "execution_count": 85,
   "id": "92453c4d",
   "metadata": {},
   "outputs": [
    {
     "data": {
      "text/plain": [
       "'54'"
      ]
     },
     "execution_count": 85,
     "metadata": {},
     "output_type": "execute_result"
    }
   ],
   "source": [
    "a='5'\n",
    "b=\"4\"\n",
    "a+b"
   ]
  },
  {
   "cell_type": "code",
   "execution_count": 86,
   "id": "5c8983d4",
   "metadata": {},
   "outputs": [
    {
     "name": "stdout",
     "output_type": "stream",
     "text": [
      "sandeep manoj\n"
     ]
    }
   ],
   "source": [
    "name1=\"sandeep\"\n",
    "name2=\"manoj\"\n",
    "print(name1,name2)"
   ]
  },
  {
   "cell_type": "code",
   "execution_count": 87,
   "id": "8f4b4042",
   "metadata": {},
   "outputs": [
    {
     "name": "stdout",
     "output_type": "stream",
     "text": [
      "sandeep\n",
      "manoj\n"
     ]
    }
   ],
   "source": [
    "name1=\"sandeep\"\n",
    "name2=\"manoj\"\n",
    "print(name1)\n",
    "print(name2)"
   ]
  },
  {
   "cell_type": "code",
   "execution_count": 89,
   "id": "5d5b38b7",
   "metadata": {},
   "outputs": [
    {
     "name": "stdout",
     "output_type": "stream",
     "text": [
      "sandeep\n",
      "manoj\n"
     ]
    }
   ],
   "source": [
    "name1=\"sandeep\"\n",
    "name2=\"manoj\"\n",
    "print(name1,name2,sep=\"\\n\")"
   ]
  },
  {
   "cell_type": "code",
   "execution_count": 90,
   "id": "ac178ea5",
   "metadata": {},
   "outputs": [
    {
     "name": "stdout",
     "output_type": "stream",
     "text": [
      "5\n",
      "6\n"
     ]
    }
   ],
   "source": [
    "a=5\n",
    "b=6\n",
    "print(a,b,sep=\"\\n\")"
   ]
  },
  {
   "cell_type": "code",
   "execution_count": 113,
   "id": "962209a7",
   "metadata": {},
   "outputs": [
    {
     "name": "stdout",
     "output_type": "stream",
     "text": [
      "sandeep manoj 5 @ "
     ]
    }
   ],
   "source": [
    "name1=\"sandeep\"\n",
    "name2=\"manoj\"\n",
    "c=5\n",
    "print(name1,name2,c,end=\" @ \")"
   ]
  },
  {
   "cell_type": "code",
   "execution_count": 1,
   "id": "59e681a3",
   "metadata": {},
   "outputs": [
    {
     "name": "stdout",
     "output_type": "stream",
     "text": [
      "ganesh@gmail.com"
     ]
    }
   ],
   "source": [
    "email='ganesh'\n",
    "print(email,end=\"@gmail.com\")"
   ]
  },
  {
   "cell_type": "code",
   "execution_count": null,
   "id": "51724f4e",
   "metadata": {},
   "outputs": [],
   "source": []
  },
  {
   "cell_type": "code",
   "execution_count": 5,
   "id": "14bb6365",
   "metadata": {},
   "outputs": [
    {
     "name": "stdout",
     "output_type": "stream",
     "text": [
      "11\n"
     ]
    }
   ],
   "source": [
    "a=5\n",
    "b=6\n",
    "print(a+b)"
   ]
  },
  {
   "cell_type": "code",
   "execution_count": 6,
   "id": "56c18259",
   "metadata": {},
   "outputs": [
    {
     "data": {
      "text/plain": [
       "30"
      ]
     },
     "execution_count": 6,
     "metadata": {},
     "output_type": "execute_result"
    }
   ],
   "source": [
    "a*b"
   ]
  },
  {
   "cell_type": "code",
   "execution_count": 7,
   "id": "19f14ff9",
   "metadata": {},
   "outputs": [
    {
     "data": {
      "text/plain": [
       "-1"
      ]
     },
     "execution_count": 7,
     "metadata": {},
     "output_type": "execute_result"
    }
   ],
   "source": [
    "a-b"
   ]
  },
  {
   "cell_type": "code",
   "execution_count": 8,
   "id": "e79a123e",
   "metadata": {},
   "outputs": [
    {
     "data": {
      "text/plain": [
       "3.3333333333333335"
      ]
     },
     "execution_count": 8,
     "metadata": {},
     "output_type": "execute_result"
    }
   ],
   "source": [
    "10/3"
   ]
  },
  {
   "cell_type": "code",
   "execution_count": 9,
   "id": "e3f1fbb6",
   "metadata": {},
   "outputs": [
    {
     "data": {
      "text/plain": [
       "3"
      ]
     },
     "execution_count": 9,
     "metadata": {},
     "output_type": "execute_result"
    }
   ],
   "source": [
    "10//3"
   ]
  },
  {
   "cell_type": "code",
   "execution_count": 10,
   "id": "4c19b3ca",
   "metadata": {},
   "outputs": [
    {
     "data": {
      "text/plain": [
       "1"
      ]
     },
     "execution_count": 10,
     "metadata": {},
     "output_type": "execute_result"
    }
   ],
   "source": [
    "10%3"
   ]
  },
  {
   "cell_type": "code",
   "execution_count": 11,
   "id": "e2a23b29",
   "metadata": {},
   "outputs": [
    {
     "data": {
      "text/plain": [
       "8"
      ]
     },
     "execution_count": 11,
     "metadata": {},
     "output_type": "execute_result"
    }
   ],
   "source": [
    "2**3"
   ]
  },
  {
   "cell_type": "code",
   "execution_count": 12,
   "id": "c1d7762e",
   "metadata": {},
   "outputs": [
    {
     "data": {
      "text/plain": [
       "6"
      ]
     },
     "execution_count": 12,
     "metadata": {},
     "output_type": "execute_result"
    }
   ],
   "source": [
    "2*3"
   ]
  },
  {
   "cell_type": "code",
   "execution_count": 13,
   "id": "dd7e76a4",
   "metadata": {},
   "outputs": [
    {
     "data": {
      "text/plain": [
       "int"
      ]
     },
     "execution_count": 13,
     "metadata": {},
     "output_type": "execute_result"
    }
   ],
   "source": [
    "a=5\n",
    "type(a)"
   ]
  },
  {
   "cell_type": "code",
   "execution_count": 14,
   "id": "7d803c74",
   "metadata": {},
   "outputs": [
    {
     "data": {
      "text/plain": [
       "float"
      ]
     },
     "execution_count": 14,
     "metadata": {},
     "output_type": "execute_result"
    }
   ],
   "source": [
    "a=.5\n",
    "type(a)"
   ]
  },
  {
   "cell_type": "code",
   "execution_count": 15,
   "id": "15f6bfed",
   "metadata": {},
   "outputs": [
    {
     "data": {
      "text/plain": [
       "str"
      ]
     },
     "execution_count": 15,
     "metadata": {},
     "output_type": "execute_result"
    }
   ],
   "source": [
    "a=\"abc\"\n",
    "type(a)"
   ]
  },
  {
   "cell_type": "code",
   "execution_count": 16,
   "id": "d38a6834",
   "metadata": {},
   "outputs": [
    {
     "data": {
      "text/plain": [
       "complex"
      ]
     },
     "execution_count": 16,
     "metadata": {},
     "output_type": "execute_result"
    }
   ],
   "source": [
    "a=5+2j\n",
    "type(a)"
   ]
  },
  {
   "cell_type": "code",
   "execution_count": 18,
   "id": "fbdf7eb3",
   "metadata": {},
   "outputs": [
    {
     "name": "stdout",
     "output_type": "stream",
     "text": [
      "7.0\n"
     ]
    }
   ],
   "source": [
    "a=5\n",
    "b=2.0\n",
    "print(a+b)"
   ]
  },
  {
   "cell_type": "code",
   "execution_count": 19,
   "id": "8ea3606e",
   "metadata": {},
   "outputs": [
    {
     "name": "stdout",
     "output_type": "stream",
     "text": [
      "5.0\n"
     ]
    }
   ],
   "source": [
    "a=5\n",
    "print(float(a))"
   ]
  },
  {
   "cell_type": "code",
   "execution_count": 20,
   "id": "cbe9de18",
   "metadata": {},
   "outputs": [
    {
     "name": "stdout",
     "output_type": "stream",
     "text": [
      "(5+0j)\n"
     ]
    }
   ],
   "source": [
    "a=5\n",
    "print(complex(a))"
   ]
  },
  {
   "cell_type": "code",
   "execution_count": 23,
   "id": "8f13d39e",
   "metadata": {},
   "outputs": [
    {
     "name": "stdout",
     "output_type": "stream",
     "text": [
      "5\n"
     ]
    }
   ],
   "source": [
    "a=5\n",
    "print(str(a))"
   ]
  },
  {
   "cell_type": "code",
   "execution_count": 26,
   "id": "4a5583cc",
   "metadata": {},
   "outputs": [
    {
     "ename": "ValueError",
     "evalue": "invalid literal for int() with base 10: 'abc'",
     "output_type": "error",
     "traceback": [
      "\u001b[1;31m---------------------------------------------------------------------------\u001b[0m",
      "\u001b[1;31mValueError\u001b[0m                                Traceback (most recent call last)",
      "Cell \u001b[1;32mIn[26], line 2\u001b[0m\n\u001b[0;32m      1\u001b[0m a\u001b[38;5;241m=\u001b[39m\u001b[38;5;124m\"\u001b[39m\u001b[38;5;124mabc\u001b[39m\u001b[38;5;124m\"\u001b[39m\n\u001b[1;32m----> 2\u001b[0m \u001b[38;5;28mprint\u001b[39m(\u001b[38;5;28mint\u001b[39m(a))\n",
      "\u001b[1;31mValueError\u001b[0m: invalid literal for int() with base 10: 'abc'"
     ]
    }
   ],
   "source": [
    "a=\"abc\"\n",
    "print(int(a))"
   ]
  },
  {
   "cell_type": "code",
   "execution_count": 28,
   "id": "010ed41d",
   "metadata": {},
   "outputs": [
    {
     "name": "stdout",
     "output_type": "stream",
     "text": [
      "60\n"
     ]
    }
   ],
   "source": [
    "a=\"54\"\n",
    "print(int(a)+6)"
   ]
  },
  {
   "cell_type": "code",
   "execution_count": 29,
   "id": "37130330",
   "metadata": {},
   "outputs": [
    {
     "name": "stdout",
     "output_type": "stream",
     "text": [
      "True\n"
     ]
    }
   ],
   "source": [
    "a=True\n",
    "print(a)"
   ]
  },
  {
   "cell_type": "code",
   "execution_count": 30,
   "id": "0f3da357",
   "metadata": {},
   "outputs": [
    {
     "data": {
      "text/plain": [
       "1"
      ]
     },
     "execution_count": 30,
     "metadata": {},
     "output_type": "execute_result"
    }
   ],
   "source": [
    "int(a)"
   ]
  },
  {
   "cell_type": "code",
   "execution_count": 32,
   "id": "0fbd3694",
   "metadata": {},
   "outputs": [
    {
     "name": "stdout",
     "output_type": "stream",
     "text": [
      "0.0\n"
     ]
    }
   ],
   "source": [
    "b=False\n",
    "print(float(b))"
   ]
  },
  {
   "cell_type": "code",
   "execution_count": 39,
   "id": "7b63e65b",
   "metadata": {},
   "outputs": [
    {
     "data": {
      "text/plain": [
       "False"
      ]
     },
     "execution_count": 39,
     "metadata": {},
     "output_type": "execute_result"
    }
   ],
   "source": [
    "a=5\n",
    "b=6\n",
    "a>=b"
   ]
  },
  {
   "cell_type": "code",
   "execution_count": 40,
   "id": "c5c3a0b3",
   "metadata": {},
   "outputs": [],
   "source": [
    "a=4\n",
    "b=6\n"
   ]
  },
  {
   "cell_type": "code",
   "execution_count": 47,
   "id": "4fb9bdc3",
   "metadata": {},
   "outputs": [
    {
     "data": {
      "text/plain": [
       "False"
      ]
     },
     "execution_count": 47,
     "metadata": {},
     "output_type": "execute_result"
    }
   ],
   "source": [
    "not(a==4 and b==6)"
   ]
  },
  {
   "cell_type": "code",
   "execution_count": 46,
   "id": "7f6eb180",
   "metadata": {},
   "outputs": [
    {
     "data": {
      "text/plain": [
       "True"
      ]
     },
     "execution_count": 46,
     "metadata": {},
     "output_type": "execute_result"
    }
   ],
   "source": [
    "not(a==3 or b==5)"
   ]
  },
  {
   "cell_type": "code",
   "execution_count": 8,
   "id": "c8de55f1",
   "metadata": {},
   "outputs": [
    {
     "name": "stdout",
     "output_type": "stream",
     "text": [
      "tomat : 10\n",
      "pot : 10\n",
      "onion: 10\n",
      "total:  30\n"
     ]
    }
   ],
   "source": [
    "a=int(input(\"tomat : \"))\n",
    "b=int(input(\"pot : \"))\n",
    "c=int(input(\"onion: \"))\n",
    "total=a+b+c\n",
    "print(\"total: \" ,total)"
   ]
  },
  {
   "cell_type": "code",
   "execution_count": 11,
   "id": "dea9cde9",
   "metadata": {},
   "outputs": [
    {
     "name": "stdout",
     "output_type": "stream",
     "text": [
      "tomat : 10\n",
      "pot : 10\n",
      "onion: 10\n",
      "a:10, b:10,c:10\n"
     ]
    }
   ],
   "source": [
    "a=int(input(\"tomat : \"))\n",
    "b=int(input(\"pot : \"))\n",
    "c=int(input(\"onion: \"))\n",
    "print(\"a:{}, b:{},c:{}\".format(a,b,c))\n"
   ]
  },
  {
   "cell_type": "code",
   "execution_count": 63,
   "id": "ebb6f2fc",
   "metadata": {},
   "outputs": [
    {
     "name": "stdout",
     "output_type": "stream",
     "text": [
      "tomat : 50\n",
      "pot : 30\n",
      "onion: 20\n",
      "total:100\n"
     ]
    }
   ],
   "source": [
    "a=int(input(\"tomat : \"))\n",
    "b=int(input(\"pot : \"))\n",
    "c=int(input(\"onion: \"))\n",
    "total=a+b+c\n",
    "print(\"total:{}\".format(total))"
   ]
  },
  {
   "cell_type": "code",
   "execution_count": 3,
   "id": "da2be75e",
   "metadata": {},
   "outputs": [
    {
     "name": "stdout",
     "output_type": "stream",
     "text": [
      "38 25\n"
     ]
    }
   ],
   "source": [
    "a=25\n",
    "b=38\n",
    "print(\"{} {}\".format(b,a))"
   ]
  },
  {
   "cell_type": "code",
   "execution_count": 7,
   "id": "05774717",
   "metadata": {},
   "outputs": [
    {
     "name": "stdout",
     "output_type": "stream",
     "text": [
      "52 45 78\n"
     ]
    }
   ],
   "source": [
    "a=52\n",
    "b=45\n",
    "c=78\n",
    "print(\"{1} {0} {2}\".format(b,a,c))"
   ]
  },
  {
   "cell_type": "code",
   "execution_count": 8,
   "id": "ea070150",
   "metadata": {},
   "outputs": [
    {
     "name": "stdout",
     "output_type": "stream",
     "text": [
      "78 45 52\n"
     ]
    }
   ],
   "source": [
    "a=52\n",
    "b=45\n",
    "c=78\n",
    "print(\"{2} {0} {1}\".format(b,a,c))"
   ]
  },
  {
   "cell_type": "code",
   "execution_count": 15,
   "id": "c77e104d",
   "metadata": {},
   "outputs": [
    {
     "name": "stdout",
     "output_type": "stream",
     "text": [
      "c 78 a 52 b 45\n"
     ]
    }
   ],
   "source": [
    "a=52\n",
    "b=45\n",
    "c=78\n",
    "print(\"c {2} a {1} b {0}\".format(b,a,c))"
   ]
  },
  {
   "cell_type": "code",
   "execution_count": 17,
   "id": "0a53fd81",
   "metadata": {},
   "outputs": [
    {
     "name": "stdout",
     "output_type": "stream",
     "text": [
      "52 45 78\n"
     ]
    }
   ],
   "source": [
    "a=52\n",
    "b=45\n",
    "c=78\n",
    "print(\"{a1} {b1} {c1}\".format(a1=a,b1=b,c1=c))"
   ]
  },
  {
   "cell_type": "code",
   "execution_count": 19,
   "id": "d0248f70",
   "metadata": {},
   "outputs": [
    {
     "name": "stdout",
     "output_type": "stream",
     "text": [
      "52 45 78\n"
     ]
    }
   ],
   "source": [
    "a1=52\n",
    "b1=45\n",
    "c1=78\n",
    "print(\"{a} {b} {c}\".format(a=a1,b=b1,c=c1))"
   ]
  },
  {
   "cell_type": "code",
   "execution_count": 27,
   "id": "13d7ccec",
   "metadata": {},
   "outputs": [
    {
     "name": "stdout",
     "output_type": "stream",
     "text": [
      "52.0 45.00 78.000\n"
     ]
    }
   ],
   "source": [
    "a1=52\n",
    "b1=45\n",
    "c1=78\n",
    "print(\"{:.1f} {:.2f} {:.3f}\".format(a1,b1,c1))"
   ]
  },
  {
   "cell_type": "code",
   "execution_count": 28,
   "id": "7d541baa",
   "metadata": {},
   "outputs": [
    {
     "name": "stdout",
     "output_type": "stream",
     "text": [
      "52.00 45.000 78.0000\n"
     ]
    }
   ],
   "source": [
    "a1=52\n",
    "b1=45\n",
    "c1=78\n",
    "print(\"{:.2f} {:.3f} {:.4f}\".format(a1,b1,c1))"
   ]
  },
  {
   "cell_type": "code",
   "execution_count": 11,
   "id": "5f9714a0",
   "metadata": {},
   "outputs": [
    {
     "name": "stdout",
     "output_type": "stream",
     "text": [
      "28.000000 52.00 23.0000\n"
     ]
    }
   ],
   "source": [
    "e=28\n",
    "f=52\n",
    "g=23\n",
    "print(\"{:.6f} {:.2f} {:.4f}\".format(e,f,g))"
   ]
  },
  {
   "cell_type": "code",
   "execution_count": 23,
   "id": "7e5dfcf4",
   "metadata": {},
   "outputs": [
    {
     "name": "stdout",
     "output_type": "stream",
     "text": [
      "52.000000\n"
     ]
    }
   ],
   "source": [
    "i=52\n",
    "print(\"%f\"%(i))\n"
   ]
  },
  {
   "cell_type": "code",
   "execution_count": 24,
   "id": "909ddc2e",
   "metadata": {},
   "outputs": [
    {
     "name": "stdout",
     "output_type": "stream",
     "text": [
      "85.000000\n"
     ]
    }
   ],
   "source": [
    "k=85\n",
    "print(\"%f\"%(k))"
   ]
  },
  {
   "cell_type": "code",
   "execution_count": 28,
   "id": "c2d8d4a9",
   "metadata": {},
   "outputs": [
    {
     "name": "stdout",
     "output_type": "stream",
     "text": [
      "10\n",
      "10\n",
      "<class 'str'>\n"
     ]
    }
   ],
   "source": [
    "h=str(input())\n",
    "print(h)\n",
    "print(type(h))"
   ]
  },
  {
   "cell_type": "code",
   "execution_count": null,
   "id": "21883a0d",
   "metadata": {},
   "outputs": [],
   "source": [
    "print()"
   ]
  },
  {
   "cell_type": "code",
   "execution_count": 30,
   "id": "9468dbd8",
   "metadata": {},
   "outputs": [
    {
     "name": "stdout",
     "output_type": "stream",
     "text": [
      "10\n",
      "<class 'int'>\n"
     ]
    }
   ],
   "source": [
    "h=10\n",
    "print(str(h))\n",
    "print(type(h))"
   ]
  },
  {
   "cell_type": "code",
   "execution_count": null,
   "id": "122f952b",
   "metadata": {},
   "outputs": [],
   "source": []
  },
  {
   "cell_type": "code",
   "execution_count": null,
   "id": "06eb39ee",
   "metadata": {},
   "outputs": [],
   "source": []
  }
 ],
 "metadata": {
  "kernelspec": {
   "display_name": "Python 3 (ipykernel)",
   "language": "python",
   "name": "python3"
  },
  "language_info": {
   "codemirror_mode": {
    "name": "ipython",
    "version": 3
   },
   "file_extension": ".py",
   "mimetype": "text/x-python",
   "name": "python",
   "nbconvert_exporter": "python",
   "pygments_lexer": "ipython3",
   "version": "3.10.9"
  }
 },
 "nbformat": 4,
 "nbformat_minor": 5
}
