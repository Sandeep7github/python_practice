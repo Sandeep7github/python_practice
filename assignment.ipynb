{
 "cells": [
  {
   "cell_type": "code",
   "execution_count": 3,
   "id": "7475b769",
   "metadata": {},
   "outputs": [
    {
     "name": "stdout",
     "output_type": "stream",
     "text": [
      "2* 1 = 2\n",
      "2* 2 = 4\n",
      "2* 3 = 6\n",
      "2* 4 = 8\n",
      "2* 5 = 10\n",
      "2* 6 = 12\n",
      "2* 7 = 14\n",
      "2* 8 = 16\n",
      "2* 9 = 18\n",
      "2* 10 = 20\n"
     ]
    }
   ],
   "source": [
    "#for multiplication table\n",
    "for i in range(1,11):\n",
    "    result=(2*i)\n",
    "    print(\"2*\",i,\"=\",result)"
   ]
  },
  {
   "cell_type": "code",
   "execution_count": 9,
   "id": "176964fd",
   "metadata": {},
   "outputs": [
    {
     "name": "stdout",
     "output_type": "stream",
     "text": [
      "entr no2\n",
      "2 * 1 = 2\n",
      "2 * 2 = 4\n",
      "2 * 3 = 6\n",
      "2 * 4 = 8\n",
      "2 * 5 = 10\n",
      "2 * 6 = 12\n",
      "2 * 7 = 14\n",
      "2 * 8 = 16\n",
      "2 * 9 = 18\n",
      "2 * 10 = 20\n"
     ]
    }
   ],
   "source": [
    "a = int(input(\"entr no\"))\n",
    "for i in range(1,11):\n",
    "    print(a,\"*\",i,\"=\", a*i)"
   ]
  },
  {
   "cell_type": "code",
   "execution_count": 29,
   "id": "78a8fa42",
   "metadata": {},
   "outputs": [
    {
     "name": "stdout",
     "output_type": "stream",
     "text": [
      "* \r\n",
      "* * \r\n",
      "* * * \r\n",
      "* * * * \r\n",
      "* * * * * \r\n"
     ]
    }
   ],
   "source": [
    "s= 5\n",
    "for i in range(0,s):\n",
    "    for j in range(0,i+1):\n",
    "    \n",
    "     print(\"*\",end=\" \")\n",
    "    \n",
    "    print(\"\\r\")"
   ]
  },
  {
   "cell_type": "code",
   "execution_count": 36,
   "id": "04659252",
   "metadata": {},
   "outputs": [
    {
     "name": "stdout",
     "output_type": "stream",
     "text": [
      "add number : 23\n",
      "sub number : -1\n",
      "multi number : 144\n",
      "divi number : 1.2\n"
     ]
    }
   ],
   "source": [
    "class calculation:\n",
    "    def addition(self,san,san1):\n",
    "        return san+san1\n",
    "    def subtraction(self,san,san1):\n",
    "        return san-san1\n",
    "    def multiplication(self,san,san1):\n",
    "        return san*san1\n",
    "    def division(self,san,san1):\n",
    "        return san/san1\n",
    "\n",
    "a=calculation()\n",
    "add = a.addition(11,12)\n",
    "sub = a.subtraction(14,15)\n",
    "multi = a.multiplication(12,12)\n",
    "divi = a.division(12,10)\n",
    "\n",
    "print(\"add number :\",add)\n",
    "print(\"sub number :\",sub)\n",
    "print(\"multi number :\",multi)\n",
    "print(\"divi number :\",divi)"
   ]
  },
  {
   "cell_type": "code",
   "execution_count": null,
   "id": "b490d47a",
   "metadata": {},
   "outputs": [],
   "source": [
    "\n",
    "\n",
    "\n",
    "\n",
    "\n",
    "\n"
   ]
  },
  {
   "cell_type": "code",
   "execution_count": null,
   "id": "54cdd2a6",
   "metadata": {},
   "outputs": [],
   "source": [
    "\n",
    "\n",
    "\n"
   ]
  },
  {
   "cell_type": "code",
   "execution_count": 52,
   "id": "075c8f3c",
   "metadata": {},
   "outputs": [
    {
     "name": "stdout",
     "output_type": "stream",
     "text": [
      "anything : 121\n",
      "121 is palendrome\n"
     ]
    }
   ],
   "source": [
    "class palendrome:\n",
    "    def pale(self,word): \n",
    "        if word == word[::-1]: \n",
    "            return True \n",
    "        else : \n",
    "            return False\n",
    "\n",
    "man=palendrome() \n",
    "\n",
    "word=input(\"anything : \") \n",
    "\n",
    "if man.pale(word):\n",
    "    \n",
    "    print(word,\"is palendrome\") \n",
    "else: \n",
    "    print(word,\"is non palendrome\")"
   ]
  }
 ],
 "metadata": {
  "kernelspec": {
   "display_name": "Python 3 (ipykernel)",
   "language": "python",
   "name": "python3"
  },
  "language_info": {
   "codemirror_mode": {
    "name": "ipython",
    "version": 3
   },
   "file_extension": ".py",
   "mimetype": "text/x-python",
   "name": "python",
   "nbconvert_exporter": "python",
   "pygments_lexer": "ipython3",
   "version": "3.10.9"
  }
 },
 "nbformat": 4,
 "nbformat_minor": 5
}
